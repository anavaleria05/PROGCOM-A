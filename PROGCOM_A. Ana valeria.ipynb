{
  "nbformat": 4,
  "nbformat_minor": 0,
  "metadata": {
    "colab": {
      "provenance": []
    },
    "kernelspec": {
      "name": "python3",
      "display_name": "Python 3"
    },
    "language_info": {
      "name": "python"
    }
  },
  "cells": [
    {
      "cell_type": "code",
      "execution_count": 1,
      "metadata": {
        "colab": {
          "base_uri": "https://localhost:8080/"
        },
        "id": "qlO4cr6sVKnT",
        "outputId": "cd1b396f-2572-4dc0-fcca-a013b7419876"
      },
      "outputs": [
        {
          "output_type": "stream",
          "name": "stdout",
          "text": [
            "ingrese la base del triángulo:45\n",
            "ingresa la altura del triángulo:67\n",
            "el area del triángulo es: 1507.5\n"
          ]
        }
      ],
      "source": [
        "#calcular base de un triángulo\n",
        "base=float(input(\"ingrese la base del triángulo:\"))\n",
        "altura=float(input(\"ingresa la altura del triángulo:\"))\n",
        "print(f\"el area del triángulo es: {base*altura/2}\")"
      ]
    },
    {
      "cell_type": "code",
      "source": [
        "#convierte grados Celsius a Fahrenheit\n",
        "num= int(input(\"ingrese la temperatura en grados Celsius:\"))\n",
        "print(f\"la temperatura en grados Fahrenheit es: {num*+32}\")\n",
        "\n"
      ],
      "metadata": {
        "colab": {
          "base_uri": "https://localhost:8080/"
        },
        "id": "CCIS63ugVU_p",
        "outputId": "9c6f114c-f969-4e47-be49-21c5d61acb2b"
      },
      "execution_count": 2,
      "outputs": [
        {
          "output_type": "stream",
          "name": "stdout",
          "text": [
            "ingrese la temperatura en grados Celsius:56\n",
            "la temperatura en grados Fahrenheit es: 1792\n"
          ]
        }
      ]
    },
    {
      "cell_type": "code",
      "source": [
        "#Desarrolla un programa que calcule el promedio de tres números ingresados por el usuario.\n",
        "n1=float(input(\"ingrese el primer número:\"))\n",
        "n2=float(input(\"ingrese el segundo número:\"))\n",
        "n3=float(input(\"ingrese el tercer número:\"))\n",
        "print(f\"el promedio de los números es: {(n1+n2+n3)/3}\")\n"
      ],
      "metadata": {
        "colab": {
          "base_uri": "https://localhost:8080/"
        },
        "id": "2CegPvE0Vikq",
        "outputId": "41c58db3-0ad9-40e7-c449-f33c62e975cb"
      },
      "execution_count": 4,
      "outputs": [
        {
          "output_type": "stream",
          "name": "stdout",
          "text": [
            "ingrese el primer número:34\n",
            "ingrese el segundo número:24\n",
            "ingrese el tercer número:14\n",
            "el promedio de los números es: 24.0\n"
          ]
        }
      ]
    },
    {
      "cell_type": "code",
      "source": [
        "#Desarrolla un programa que calcule el promedio de tres números ingresados por el usuario.\n",
        "n1=float(input(\"ingrese el primer número:\"))\n",
        "n2=float(input(\"ingrese el segundo número:\"))\n",
        "n3=float(input(\"ingrese el tercer número:\"))\n",
        "print(f\"el promedio de los números es: {(n1+n2+n3)/3}\")"
      ],
      "metadata": {
        "colab": {
          "base_uri": "https://localhost:8080/"
        },
        "id": "K6sejaGHWMll",
        "outputId": "0fc12869-b1ec-46f4-8d85-8cfa9d60c77b"
      },
      "execution_count": 5,
      "outputs": [
        {
          "output_type": "stream",
          "name": "stdout",
          "text": [
            "ingrese el primer número:34\n",
            "ingrese el segundo número:24\n",
            "ingrese el tercer número:25\n",
            "el promedio de los números es: 27.666666666666668\n"
          ]
        }
      ]
    },
    {
      "cell_type": "code",
      "source": [
        "#Crea un programa que resuelva una ecuación cuadrática (ax² + bx + c = 0) pidiendo los valores de a, b y c.\n",
        "a=float(input(\"ingrese el valor de a:\"))\n",
        "b=float(input(\"ingrese el valor de b:\"))\n",
        "c=float(input(\"ingrese el valor de c:\"))\n",
        "print(f\"la ecuación es: {a}x²+{b}x+{c}=0\")\n",
        "print(f\"la solución de la ecuación es: {(-b+(b**2-4*a*c)**1/2)/(2*a)} y {(-b-(b**2-4*a*c)**1/2)/(2*a)}\")\n"
      ],
      "metadata": {
        "colab": {
          "base_uri": "https://localhost:8080/"
        },
        "id": "Y4NWxO_bWbOG",
        "outputId": "1b384480-1cd5-44ab-d31f-b981bdba3b68"
      },
      "execution_count": 6,
      "outputs": [
        {
          "output_type": "stream",
          "name": "stdout",
          "text": [
            "ingrese el valor de a:45\n",
            "ingrese el valor de b:56\n",
            "ingrese el valor de c:67\n",
            "la ecuación es: 45.0x²+56.0x+67.0=0\n",
            "la solución de la ecuación es: -50.2 y 48.955555555555556\n"
          ]
        }
      ]
    },
    {
      "cell_type": "code",
      "source": [
        "#Desarrolla un programa que determine si un número es par o impar.\n",
        "#if normal\n",
        "num=int(input(\"ingrese un número:\"))\n",
        "if num%2==0:\n",
        "    print(f\"{num} es par\")\n",
        "else:\n",
        "    print(f\"{num} es impar\")"
      ],
      "metadata": {
        "colab": {
          "base_uri": "https://localhost:8080/"
        },
        "id": "gQeKvdJBWgmn",
        "outputId": "c63b67dc-daed-4124-8df3-36e1440df02a"
      },
      "execution_count": 7,
      "outputs": [
        {
          "output_type": "stream",
          "name": "stdout",
          "text": [
            "ingrese un número:89\n",
            "89 es impar\n"
          ]
        }
      ]
    },
    {
      "cell_type": "code",
      "source": [
        "#Crea un programa que determine si un año es bisiesto (divisible por 4 y no por 100, o divisible por 400).\n",
        "#if normal\n",
        "año=int(input(\"ingrese un año:\"))\n",
        "if año%4==0 and año%100!=0:\n",
        "  print(f\"{año} es bisiesto\")\n",
        "else:\n",
        "  print(f\"{año} no es bisiesto\")"
      ],
      "metadata": {
        "colab": {
          "base_uri": "https://localhost:8080/"
        },
        "id": "wYrguegkWoSl",
        "outputId": "d7e05a68-dfcd-4151-d189-6d39903552da"
      },
      "execution_count": 8,
      "outputs": [
        {
          "output_type": "stream",
          "name": "stdout",
          "text": [
            "ingrese un año:67\n",
            "67 no es bisiesto\n"
          ]
        }
      ]
    },
    {
      "cell_type": "code",
      "source": [
        "#Crea un programa que determine si un año es bisiesto (divisible por 4 y no por 100, o divisible por 400).\n",
        "#if ternario\n",
        "año=int(input(\"ingrese un año:\"))\n",
        "print(f\"{año} es bisiesto\") if año%4==0 and año%100!=0 else print(f\"{año} no es bisiesto\")"
      ],
      "metadata": {
        "colab": {
          "base_uri": "https://localhost:8080/"
        },
        "id": "aHbkTkADW0g0",
        "outputId": "d8a4636d-a434-446f-8aa7-a6f15889eb51"
      },
      "execution_count": 9,
      "outputs": [
        {
          "output_type": "stream",
          "name": "stdout",
          "text": [
            "ingrese un año:2023\n",
            "2023 no es bisiesto\n"
          ]
        }
      ]
    },
    {
      "cell_type": "code",
      "source": [
        "#Escribe un programa que solicite el nombre del usuario y determine si una persona pertenece a la tercera edad (70 años o más) y si se cumple la condición, imprima que se le da prioridad en la fila.\n",
        "#if normal\n",
        "nom=input(\"ingrese su nombre:\")\n",
        "edad=int(input(\"ingrese su edad:\"))\n",
        "if edad>=70:\n",
        "  print(f\"{nom}, usted se encuentra en la tercera edad y se le da prioridad en la fila.\")\n",
        "else:\n",
        "  print(f\"{nom}, usted no tiene prioridad en la fila, espere en la fila.\")\n"
      ],
      "metadata": {
        "id": "A7WQgKjBXE2p"
      },
      "execution_count": null,
      "outputs": []
    },
    {
      "cell_type": "code",
      "source": [
        "#Escribe un programa que solicite el nombre del usuario y determine si una persona pertenece a la tercera edad (70 años o más) y si se cumple la condición, imprima que se le da prioridad en la fila.\n",
        "#if ternario\n",
        "nom= input(\"ingrese su nombre:\")\n",
        "edad= int(input(\"ingrese su edad:\"))\n",
        "print(f\"{nom}, usted se encuentra en la tercera edad y se le da prioridad en la fila.\") if edad>=70 else print(f\"{nom}, usted no tiene prioridad en la fila, espere en la fila.\")"
      ],
      "metadata": {
        "colab": {
          "base_uri": "https://localhost:8080/"
        },
        "id": "Aldk9nb2XVK3",
        "outputId": "a1b50c23-54c1-4b41-9405-51185c48fcdc"
      },
      "execution_count": 10,
      "outputs": [
        {
          "output_type": "stream",
          "name": "stdout",
          "text": [
            "ingrese su nombre:45\n",
            "ingrese su edad:67\n",
            "45, usted no tiene prioridad en la fila, espere en la fila.\n"
          ]
        }
      ]
    },
    {
      "cell_type": "code",
      "source": [
        "#Desarrolla un programa que compare tres números y muestre el mayor.\n",
        "#if ternario\n",
        "n1=float(input(\"ingrese el primer número:\"))\n",
        "n2=float(input(\"ingrese el segundo número:\"))\n",
        "n3=float(input(\"ingrese el tercer número:\"))\n",
        "print(f\"el número mayor es: {n1}\") if n1>n2 and n2>n3 else print(f\"el número mayor es: {n2}\") if n2>n1 and n2>n3 else print(f\"el número mayor es: {n3}\")\n"
      ],
      "metadata": {
        "colab": {
          "base_uri": "https://localhost:8080/"
        },
        "id": "hZRvgj1cXtL3",
        "outputId": "b6984146-b678-46cf-c582-ef62126f8b6a"
      },
      "execution_count": 11,
      "outputs": [
        {
          "output_type": "stream",
          "name": "stdout",
          "text": [
            "ingrese el primer número:87\n",
            "ingrese el segundo número:98\n",
            "ingrese el tercer número:90\n",
            "el número mayor es: 98.0\n"
          ]
        }
      ]
    },
    {
      "cell_type": "code",
      "source": [
        "#Crea un programa que determine si un triángulo es equilátero, isósceles o escaleno según sus lados.\n",
        "#if normal\n",
        "l1=float(input(\"ingrese el primer lado del triángulo:\"))\n",
        "l2=float(input(\"ingrese el segundo lado del triángulo:\"))\n",
        "l3=float(input(\"ingrese el tercer lado del triángulo:\"))\n",
        "if l1==l2 and l2==l3:\n",
        "  print(\"el triángulo es equilátero\")\n",
        "else:\n",
        "  if l1==l2 or l2==l3 or l1==l3:\n",
        "    print(\"el triángulo es isósceles\")\n",
        "  else:\n",
        "    print(\"el triángulo es escaleno\")"
      ],
      "metadata": {
        "colab": {
          "base_uri": "https://localhost:8080/"
        },
        "id": "v2BZ7w77XxaK",
        "outputId": "f8e8b7d5-10bf-4c9c-f455-d8c883969b04"
      },
      "execution_count": 12,
      "outputs": [
        {
          "output_type": "stream",
          "name": "stdout",
          "text": [
            "ingrese el primer lado del triángulo:34\n",
            "ingrese el segundo lado del triángulo:45\n",
            "ingrese el tercer lado del triángulo:56\n",
            "el triángulo es escaleno\n"
          ]
        }
      ]
    },
    {
      "cell_type": "code",
      "source": [
        "#Crea un programa que determine si un triángulo es equilátero, isósceles o escaleno según sus lados.\n",
        "#if normal\n",
        "l1=float(input(\"ingrese el primer lado del triángulo:\"))\n",
        "l2=float(input(\"ingrese el segundo lado del triángulo:\"))\n",
        "l3=float(input(\"ingrese el tercer lado del triángulo:\"))\n",
        "if l1==l2 and l2==l3:\n",
        "  print(\"el triángulo es equilátero\")\n",
        "else:\n",
        "  if l1==l2 or l2==l3 or l1==l3:\n",
        "    print(\"el triángulo es isósceles\")\n",
        "  else:\n",
        "    print(\"el triángulo es escaleno\")"
      ],
      "metadata": {
        "colab": {
          "base_uri": "https://localhost:8080/"
        },
        "id": "sKJfhwBfX9BY",
        "outputId": "9c8d64af-cb70-4290-e848-8b9ef14d71e7"
      },
      "execution_count": 13,
      "outputs": [
        {
          "output_type": "stream",
          "name": "stdout",
          "text": [
            "ingrese el primer lado del triángulo:49\n",
            "ingrese el segundo lado del triángulo:50\n",
            "ingrese el tercer lado del triángulo:67\n",
            "el triángulo es escaleno\n"
          ]
        }
      ]
    }
  ]
}