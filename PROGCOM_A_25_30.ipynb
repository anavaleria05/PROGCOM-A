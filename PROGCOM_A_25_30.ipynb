{
  "nbformat": 4,
  "nbformat_minor": 0,
  "metadata": {
    "colab": {
      "provenance": []
    },
    "kernelspec": {
      "name": "python3",
      "display_name": "Python 3"
    },
    "language_info": {
      "name": "python"
    }
  },
  "cells": [
    {
      "cell_type": "code",
      "execution_count": 1,
      "metadata": {
        "colab": {
          "base_uri": "https://localhost:8080/"
        },
        "id": "h0p7CFvgaMMt",
        "outputId": "497e36b4-3e6e-4e62-d4fe-cfce14c788ef"
      },
      "outputs": [
        {
          "output_type": "stream",
          "name": "stdout",
          "text": [
            "Introduce 10 colores separados por comas: azul,negro,amarillo,blanco,rojo,verde,rosado,morado,cafe,gris\n",
            "¡He pensado en un color! Tienes 10 intentos para adivinarlo.\n",
            "Intento 1: negro\n",
            "Intenta de nuevo.\n",
            "Intento 2: azul\n",
            "Intenta de nuevo.\n",
            "Intento 3: verde\n",
            "Intenta de nuevo.\n",
            "Intento 4: negro\n",
            "Intenta de nuevo.\n",
            "Intento 5: rosado\n",
            "¡Felicidades! Adivinaste el color en 5 intentos.\n"
          ]
        }
      ],
      "source": [
        "import random\n",
        "\n",
        "# Definimos los 10 colores\n",
        "colores = input(\"Introduce 10 colores separados por comas: \").split(',')\n",
        "\n",
        "# Elegimos un color aleatorio del conjunto\n",
        "color_seleccionado = random.choice(colores)\n",
        "\n",
        "# Función lambda para verificar si el intento es correcto\n",
        "adivinanza = lambda intento: intento.strip().lower() == color_seleccionado.lower()\n",
        "\n",
        "# Máximo de intentos\n",
        "max_intentos = 10\n",
        "\n",
        "# Proceso de adivinanza\n",
        "print(\"¡He pensado en un color! Tienes 10 intentos para adivinarlo.\")\n",
        "\n",
        "for intento in range(1, max_intentos + 1):\n",
        "    color_intento = input(f\"Intento {intento}: \").strip().lower()\n",
        "\n",
        "    if adivinanza(color_intento):\n",
        "        print(f\"¡Felicidades! Adivinaste el color en {intento} intentos.\")\n",
        "        break\n",
        "    else:\n",
        "        if intento < max_intentos:\n",
        "            print(\"Intenta de nuevo.\")\n",
        "        else:\n",
        "            print(f\"Lo siento, no adivinaste el color. El color correcto era: {color_seleccionado}\")\n"
      ]
    },
    {
      "cell_type": "code",
      "source": [
        "# Usamos la función filter() con una lambda para obtener los números pares\n",
        "numeros_pares = list(filter(lambda x: x % 2 == 0, range(1, 101)))\n",
        "\n",
        "# Mostramos los números pares\n",
        "print(numeros_pares)\n"
      ],
      "metadata": {
        "colab": {
          "base_uri": "https://localhost:8080/"
        },
        "id": "BSXrznCMX7tY",
        "outputId": "e8c1fdde-04c3-43c5-cd9b-4409e2fe2466"
      },
      "execution_count": 2,
      "outputs": [
        {
          "output_type": "stream",
          "name": "stdout",
          "text": [
            "[2, 4, 6, 8, 10, 12, 14, 16, 18, 20, 22, 24, 26, 28, 30, 32, 34, 36, 38, 40, 42, 44, 46, 48, 50, 52, 54, 56, 58, 60, 62, 64, 66, 68, 70, 72, 74, 76, 78, 80, 82, 84, 86, 88, 90, 92, 94, 96, 98, 100]\n"
          ]
        }
      ]
    },
    {
      "cell_type": "code",
      "source": [
        "# Función que usa lambda para calcular la suma de los dígitos de un número\n",
        "numero = 12345\n",
        "\n",
        "# Convertimos el número a una lista de dígitos, y luego aplicamos lambda para sumarlos\n",
        "suma_digitos = sum(map(lambda x: int(x), str(numero)))\n",
        "\n",
        "# Mostramos el resultado\n",
        "print(\"La suma de los dígitos de\", numero, \"es:\", suma_digitos)\n"
      ],
      "metadata": {
        "colab": {
          "base_uri": "https://localhost:8080/"
        },
        "id": "mjHQvrt5gVfr",
        "outputId": "8410788a-fef8-483e-cd0d-04829da4b476"
      },
      "execution_count": 3,
      "outputs": [
        {
          "output_type": "stream",
          "name": "stdout",
          "text": [
            "La suma de los dígitos de 12345 es: 15\n"
          ]
        }
      ]
    },
    {
      "cell_type": "code",
      "source": [
        "# Función lambda para verificar si un número es primo\n",
        "numero = 29\n",
        "\n",
        "# Función que usa lambda para verificar si el número es primo\n",
        "es_primo = lambda n: n > 1 and all(n % i != 0 for i in range(2, int(n**0.5) + 1))\n",
        "\n",
        "# Verificamos si el número es primo\n",
        "if es_primo(numero):\n",
        "    print(f\"{numero} es un número primo.\")\n",
        "else:\n",
        "    print(f\"{numero} no es un número primo.\")\n"
      ],
      "metadata": {
        "colab": {
          "base_uri": "https://localhost:8080/"
        },
        "id": "XPtFgKrKgi1q",
        "outputId": "ab931220-15ef-41b6-abc1-55d59fbdd837"
      },
      "execution_count": 4,
      "outputs": [
        {
          "output_type": "stream",
          "name": "stdout",
          "text": [
            "29 es un número primo.\n"
          ]
        }
      ]
    },
    {
      "cell_type": "code",
      "source": [
        "# Función lambda para imprimir un triángulo con asteriscos\n",
        "altura = 5  # Puedes cambiar el valor de altura para variar el tamaño del triángulo\n",
        "\n",
        "# Usamos map y lambda para crear y mostrar el patrón de triángulo\n",
        "triangulo = list(map(lambda i: print('*' * (i + 1)), range(altura)))\n",
        "\n"
      ],
      "metadata": {
        "colab": {
          "base_uri": "https://localhost:8080/"
        },
        "id": "vlHRjLv6gxf_",
        "outputId": "ef87bb15-5404-45f9-a997-b490be116f80"
      },
      "execution_count": 5,
      "outputs": [
        {
          "output_type": "stream",
          "name": "stdout",
          "text": [
            "*\n",
            "**\n",
            "***\n",
            "****\n",
            "*****\n"
          ]
        }
      ]
    },
    {
      "cell_type": "code",
      "source": [
        "# Establecemos la altura del triángulo\n",
        "altura = 5  # Puedes cambiar este valor para ajustar el tamaño del triángulo\n",
        "\n",
        "# Usamos map y lambda para generar e imprimir el patrón de triángulo\n",
        "list(map(lambda i: print('*' * (i + 1)), range(altura)))\n"
      ],
      "metadata": {
        "colab": {
          "base_uri": "https://localhost:8080/"
        },
        "id": "WOUdMEjHg9ql",
        "outputId": "3880aa11-1a69-4f55-dbf1-7b6ce8b75527"
      },
      "execution_count": 6,
      "outputs": [
        {
          "output_type": "stream",
          "name": "stdout",
          "text": [
            "*\n",
            "**\n",
            "***\n",
            "****\n",
            "*****\n"
          ]
        },
        {
          "output_type": "execute_result",
          "data": {
            "text/plain": [
              "[None, None, None, None, None]"
            ]
          },
          "metadata": {},
          "execution_count": 6
        }
      ]
    },
    {
      "cell_type": "code",
      "source": [
        "# Usamos lambda para imprimir las tablas de multiplicar del 1 al 10\n",
        "for i in range(1, 11):\n",
        "    # Usamos map con lambda para calcular y mostrar cada multiplicación\n",
        "    list(map(lambda j: print(f\"{i} x {j} = {i * j}\"), range(1, 11)))\n",
        "    print()  # Línea en blanco para separar cada tabla\n"
      ],
      "metadata": {
        "colab": {
          "base_uri": "https://localhost:8080/"
        },
        "id": "gcUVP8zDhLY2",
        "outputId": "9267b4ac-df7e-41d0-eb5e-9799abdce3ad"
      },
      "execution_count": 7,
      "outputs": [
        {
          "output_type": "stream",
          "name": "stdout",
          "text": [
            "1 x 1 = 1\n",
            "1 x 2 = 2\n",
            "1 x 3 = 3\n",
            "1 x 4 = 4\n",
            "1 x 5 = 5\n",
            "1 x 6 = 6\n",
            "1 x 7 = 7\n",
            "1 x 8 = 8\n",
            "1 x 9 = 9\n",
            "1 x 10 = 10\n",
            "\n",
            "2 x 1 = 2\n",
            "2 x 2 = 4\n",
            "2 x 3 = 6\n",
            "2 x 4 = 8\n",
            "2 x 5 = 10\n",
            "2 x 6 = 12\n",
            "2 x 7 = 14\n",
            "2 x 8 = 16\n",
            "2 x 9 = 18\n",
            "2 x 10 = 20\n",
            "\n",
            "3 x 1 = 3\n",
            "3 x 2 = 6\n",
            "3 x 3 = 9\n",
            "3 x 4 = 12\n",
            "3 x 5 = 15\n",
            "3 x 6 = 18\n",
            "3 x 7 = 21\n",
            "3 x 8 = 24\n",
            "3 x 9 = 27\n",
            "3 x 10 = 30\n",
            "\n",
            "4 x 1 = 4\n",
            "4 x 2 = 8\n",
            "4 x 3 = 12\n",
            "4 x 4 = 16\n",
            "4 x 5 = 20\n",
            "4 x 6 = 24\n",
            "4 x 7 = 28\n",
            "4 x 8 = 32\n",
            "4 x 9 = 36\n",
            "4 x 10 = 40\n",
            "\n",
            "5 x 1 = 5\n",
            "5 x 2 = 10\n",
            "5 x 3 = 15\n",
            "5 x 4 = 20\n",
            "5 x 5 = 25\n",
            "5 x 6 = 30\n",
            "5 x 7 = 35\n",
            "5 x 8 = 40\n",
            "5 x 9 = 45\n",
            "5 x 10 = 50\n",
            "\n",
            "6 x 1 = 6\n",
            "6 x 2 = 12\n",
            "6 x 3 = 18\n",
            "6 x 4 = 24\n",
            "6 x 5 = 30\n",
            "6 x 6 = 36\n",
            "6 x 7 = 42\n",
            "6 x 8 = 48\n",
            "6 x 9 = 54\n",
            "6 x 10 = 60\n",
            "\n",
            "7 x 1 = 7\n",
            "7 x 2 = 14\n",
            "7 x 3 = 21\n",
            "7 x 4 = 28\n",
            "7 x 5 = 35\n",
            "7 x 6 = 42\n",
            "7 x 7 = 49\n",
            "7 x 8 = 56\n",
            "7 x 9 = 63\n",
            "7 x 10 = 70\n",
            "\n",
            "8 x 1 = 8\n",
            "8 x 2 = 16\n",
            "8 x 3 = 24\n",
            "8 x 4 = 32\n",
            "8 x 5 = 40\n",
            "8 x 6 = 48\n",
            "8 x 7 = 56\n",
            "8 x 8 = 64\n",
            "8 x 9 = 72\n",
            "8 x 10 = 80\n",
            "\n",
            "9 x 1 = 9\n",
            "9 x 2 = 18\n",
            "9 x 3 = 27\n",
            "9 x 4 = 36\n",
            "9 x 5 = 45\n",
            "9 x 6 = 54\n",
            "9 x 7 = 63\n",
            "9 x 8 = 72\n",
            "9 x 9 = 81\n",
            "9 x 10 = 90\n",
            "\n",
            "10 x 1 = 10\n",
            "10 x 2 = 20\n",
            "10 x 3 = 30\n",
            "10 x 4 = 40\n",
            "10 x 5 = 50\n",
            "10 x 6 = 60\n",
            "10 x 7 = 70\n",
            "10 x 8 = 80\n",
            "10 x 9 = 90\n",
            "10 x 10 = 100\n",
            "\n"
          ]
        }
      ]
    },
    {
      "cell_type": "code",
      "source": [
        "# Función para encontrar todos los números perfectos hasta n\n",
        "n = 10000  # Puedes cambiar este valor de n según el límite que desees\n",
        "\n",
        "# Función lambda para verificar si un número es perfecto\n",
        "es_perfecto = lambda num: num == sum(i for i in range(1, num) if num % i == 0)\n",
        "\n",
        "# Encuentra todos los números perfectos hasta n\n",
        "numeros_perfectos = [i for i in range(2, n+1) if es_perfecto(i)]\n",
        "\n",
        "# Mostrar los resultados\n",
        "print(f\"Los números perfectos hasta {n} son: {numeros_perfectos}\")\n"
      ],
      "metadata": {
        "colab": {
          "base_uri": "https://localhost:8080/"
        },
        "id": "Cv8yDdXmhhAr",
        "outputId": "2deeb583-f55a-4125-849d-aa7cc597c629"
      },
      "execution_count": 9,
      "outputs": [
        {
          "output_type": "stream",
          "name": "stdout",
          "text": [
            "Los números perfectos hasta 10000 son: [6, 28, 496, 8128]\n"
          ]
        }
      ]
    },
    {
      "cell_type": "code",
      "source": [
        "# Definimos la altura máxima del diamante (puedes ajustarla)\n",
        "altura = 5\n",
        "\n",
        "# Generamos la parte superior del diamante (triángulo)\n",
        "for i in range(1, altura + 1):\n",
        "    print(' ' * (altura - i) + '*' * (2 * i - 1))\n",
        "\n",
        "# Generamos la parte inferior del diamante (invertido)\n",
        "for i in range(altura - 1, 0, -1):\n",
        "    print(' ' * (altura - i) + '*' * (2 * i - 1))\n"
      ],
      "metadata": {
        "colab": {
          "base_uri": "https://localhost:8080/"
        },
        "id": "UDIuh2NiiAWQ",
        "outputId": "45463709-9311-4380-ad7b-904c0c906065"
      },
      "execution_count": 10,
      "outputs": [
        {
          "output_type": "stream",
          "name": "stdout",
          "text": [
            "    *\n",
            "   ***\n",
            "  *****\n",
            " *******\n",
            "*********\n",
            " *******\n",
            "  *****\n",
            "   ***\n",
            "    *\n"
          ]
        }
      ]
    },
    {
      "cell_type": "code",
      "source": [
        "# Definimos el límite n hasta el cual buscaremos los números Armstrong\n",
        "n = 10000  # Puedes cambiar este valor para buscar hasta un número diferente\n",
        "\n",
        "# Función lambda para verificar si un número es Armstrong\n",
        "es_armstrong = lambda num: num == sum(int(digit) ** len(str(num)) for digit in str(num))\n",
        "\n",
        "# Encontramos todos los números Armstrong hasta n\n",
        "numeros_armstrong = [i for i in range(1, n+1) if es_armstrong(i)]\n",
        "\n",
        "# Mostramos los números Armstrong encontrados\n",
        "print(f\"Los números Armstrong hasta {n} son: {numeros_armstrong}\")\n"
      ],
      "metadata": {
        "colab": {
          "base_uri": "https://localhost:8080/"
        },
        "id": "C4yqcKqhiIn4",
        "outputId": "2ffa1d35-9247-4794-d840-cf6cb07c1839"
      },
      "execution_count": 11,
      "outputs": [
        {
          "output_type": "stream",
          "name": "stdout",
          "text": [
            "Los números Armstrong hasta 10000 son: [1, 2, 3, 4, 5, 6, 7, 8, 9, 153, 370, 371, 407, 1634, 8208, 9474]\n"
          ]
        }
      ]
    },
    {
      "cell_type": "code",
      "source": [
        "import time\n",
        "\n",
        "# Función lambda para formatear la hora, minutos y segundos en formato digital\n",
        "mostrar_reloj = lambda h, m, s: print(f\"{h:02}:{m:02}:{s:02}\")\n",
        "\n",
        "# Establecemos el tiempo máximo en segundos (ej. 10 minutos = 600 segundos)\n",
        "tiempo_total = 10 * 60  # 10 minutos\n",
        "\n",
        "# Inicializamos las horas, minutos y segundos\n",
        "horas, minutos, segundos = 0, 0, 0\n",
        "\n",
        "# Comenzamos el ciclo para simular el reloj digital\n",
        "for _ in range(tiempo_total):\n",
        "    mostrar_reloj(horas, minutos, segundos)\n",
        "    time.sleep(1)  # Espera 1 segundo\n",
        "\n",
        "    # Actualizamos los segundos\n",
        "    segundos += 1\n",
        "\n",
        "    # Si los segundos llegan a 60, se resetean a 0 y aumentan los minutos\n",
        "    if segundos == 60:\n",
        "        segundos = 0\n",
        "        minutos += 1\n",
        "\n",
        "    # Si los minutos llegan a 60, se resetean a 0 y aumentan las horas\n",
        "    if minutos == 60:\n",
        "        minutos = 0\n",
        "        horas += 1\n"
      ],
      "metadata": {
        "colab": {
          "base_uri": "https://localhost:8080/"
        },
        "id": "4SrJcrkwiS7j",
        "outputId": "b5fbf810-9271-453a-8afd-850bd00ee032"
      },
      "execution_count": null,
      "outputs": [
        {
          "output_type": "stream",
          "name": "stdout",
          "text": [
            "00:00:00\n",
            "00:00:01\n",
            "00:00:02\n",
            "00:00:03\n",
            "00:00:04\n",
            "00:00:05\n",
            "00:00:06\n",
            "00:00:07\n",
            "00:00:08\n",
            "00:00:09\n",
            "00:00:10\n",
            "00:00:11\n",
            "00:00:12\n",
            "00:00:13\n",
            "00:00:14\n",
            "00:00:15\n",
            "00:00:16\n",
            "00:00:17\n",
            "00:00:18\n",
            "00:00:19\n",
            "00:00:20\n",
            "00:00:21\n",
            "00:00:22\n",
            "00:00:23\n",
            "00:00:24\n",
            "00:00:25\n",
            "00:00:26\n",
            "00:00:27\n",
            "00:00:28\n",
            "00:00:29\n",
            "00:00:30\n",
            "00:00:31\n",
            "00:00:32\n",
            "00:00:33\n",
            "00:00:34\n",
            "00:00:35\n",
            "00:00:36\n",
            "00:00:37\n",
            "00:00:38\n",
            "00:00:39\n",
            "00:00:40\n",
            "00:00:41\n",
            "00:00:42\n",
            "00:00:43\n",
            "00:00:44\n",
            "00:00:45\n",
            "00:00:46\n",
            "00:00:47\n",
            "00:00:48\n",
            "00:00:49\n",
            "00:00:50\n",
            "00:00:51\n",
            "00:00:52\n",
            "00:00:53\n",
            "00:00:54\n",
            "00:00:55\n",
            "00:00:56\n",
            "00:00:57\n",
            "00:00:58\n",
            "00:00:59\n",
            "00:01:00\n",
            "00:01:01\n",
            "00:01:02\n",
            "00:01:03\n",
            "00:01:04\n",
            "00:01:05\n",
            "00:01:06\n",
            "00:01:07\n",
            "00:01:08\n",
            "00:01:09\n",
            "00:01:10\n",
            "00:01:11\n",
            "00:01:12\n",
            "00:01:13\n",
            "00:01:14\n",
            "00:01:15\n",
            "00:01:16\n",
            "00:01:17\n",
            "00:01:18\n",
            "00:01:19\n",
            "00:01:20\n",
            "00:01:21\n",
            "00:01:22\n",
            "00:01:23\n",
            "00:01:24\n",
            "00:01:25\n",
            "00:01:26\n",
            "00:01:27\n",
            "00:01:28\n",
            "00:01:29\n",
            "00:01:30\n",
            "00:01:31\n",
            "00:01:32\n",
            "00:01:33\n",
            "00:01:34\n",
            "00:01:35\n",
            "00:01:36\n",
            "00:01:37\n",
            "00:01:38\n",
            "00:01:39\n",
            "00:01:40\n",
            "00:01:41\n",
            "00:01:42\n",
            "00:01:43\n",
            "00:01:44\n",
            "00:01:45\n",
            "00:01:46\n",
            "00:01:47\n",
            "00:01:48\n",
            "00:01:49\n",
            "00:01:50\n",
            "00:01:51\n",
            "00:01:52\n",
            "00:01:53\n",
            "00:01:54\n",
            "00:01:55\n",
            "00:01:56\n",
            "00:01:57\n",
            "00:01:58\n",
            "00:01:59\n",
            "00:02:00\n",
            "00:02:01\n",
            "00:02:02\n",
            "00:02:03\n",
            "00:02:04\n",
            "00:02:05\n",
            "00:02:06\n",
            "00:02:07\n",
            "00:02:08\n",
            "00:02:09\n",
            "00:02:10\n",
            "00:02:11\n",
            "00:02:12\n",
            "00:02:13\n",
            "00:02:14\n",
            "00:02:15\n",
            "00:02:16\n",
            "00:02:17\n",
            "00:02:18\n",
            "00:02:19\n",
            "00:02:20\n",
            "00:02:21\n",
            "00:02:22\n",
            "00:02:23\n",
            "00:02:24\n",
            "00:02:25\n",
            "00:02:26\n",
            "00:02:27\n",
            "00:02:28\n",
            "00:02:29\n",
            "00:02:30\n",
            "00:02:31\n",
            "00:02:32\n",
            "00:02:33\n",
            "00:02:34\n",
            "00:02:35\n",
            "00:02:36\n",
            "00:02:37\n",
            "00:02:38\n",
            "00:02:39\n",
            "00:02:40\n",
            "00:02:41\n",
            "00:02:42\n",
            "00:02:43\n",
            "00:02:44\n",
            "00:02:45\n",
            "00:02:46\n",
            "00:02:47\n"
          ]
        }
      ]
    },
    {
      "cell_type": "markdown",
      "source": [
        "ANA VALERIA GARCÍA LOZAN0/U00182087"
      ],
      "metadata": {
        "id": "oq0DWQvzjITY"
      }
    }
  ]
}