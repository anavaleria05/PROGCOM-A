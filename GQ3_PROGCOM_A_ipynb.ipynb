{
  "nbformat": 4,
  "nbformat_minor": 0,
  "metadata": {
    "colab": {
      "provenance": []
    },
    "kernelspec": {
      "name": "python3",
      "display_name": "Python 3"
    },
    "language_info": {
      "name": "python"
    }
  },
  "cells": [
    {
      "cell_type": "markdown",
      "source": [
        "la medicina personalizada, los ingenieros biomédicos se enfrentan a varios desafíos al diseñar prótesis personalizadas. Una de las principales dificultades es asegurarse de que la prótesis se ajuste correctamente a la anatomía del paciente y que sea funcional.\n",
        "\n",
        "Para abordar este desafío de manera sencilla, podemos crear un programa en Python que simule el diseño de una prótesis personalizada basado en las medidas de una extremidad del paciente, como una pierna. Este programa permitirá ingresar medidas como la longitud de la pierna y el diámetro de la parte afectada, y generará una prótesis personalizada en función de esos datos.\n",
        "\n",
        "1.El programa debe pedir al usuario que ingrese las medidas de la pierna (longitud y diámetro de la parte afectada).\n",
        "2.Luego, debe generar una \"prótesis\" basada en esas medidas. La \"prótesis\" será un objeto que tiene las propiedades de longitud y diámetro.\n",
        "3.Se validarán los datos ingresados para asegurarse de que son números válidos.\n",
        "\n"
      ],
      "metadata": {
        "id": "8vXBx1Junc4k"
      }
    },
    {
      "cell_type": "markdown",
      "source": [
        "ANA VALERIA GARCÍA LOZANO/U00182087"
      ],
      "metadata": {
        "id": "QDhIbIEuo3Gw"
      }
    },
    {
      "cell_type": "code",
      "source": [
        "# Clase que define la prótesis personalizada\n",
        "class Protesis:\n",
        "    def __init__(self, longitud, diametro):\n",
        "        self.longitud = longitud  # Longitud de la pierna\n",
        "        self.diametro = diametro  # Diámetro de la parte afectada\n",
        "\n",
        "    def mostrar_detalles(self):\n",
        "        print(f\"Detalles de la prótesis:\")\n",
        "        print(f\"Longitud de la pierna: {self.longitud} cm\")\n",
        "        print(f\"Diámetro de la parte afectada: {self.diametro} cm\")\n",
        "\n",
        "# Función que solicita y valida las medidas del paciente\n",
        "def obtener_medidas():\n",
        "    try:\n",
        "        longitud = float(input(\"Ingrese la longitud de la pierna (en cm): \"))\n",
        "        diametro = float(input(\"Ingrese el diámetro de la parte afectada (en cm): \"))\n",
        "\n",
        "        if longitud <= 0 or diametro <= 0:\n",
        "            print(\"Las medidas deben ser valores positivos mayores a 0. Inténtelo de nuevo.\")\n",
        "            return None\n",
        "\n",
        "        # Crear una prótesis personalizada basada en las medidas proporcionadas\n",
        "        protesis_personalizada = Protesis(longitud, diametro)\n",
        "        return protesis_personalizada\n",
        "    except ValueError:\n",
        "        print(\"Por favor, ingrese un número válido para las medidas.\")\n",
        "        return None\n",
        "\n",
        "# Función principal\n",
        "def simulacion_protesis():\n",
        "    print(\"Bienvenido al sistema de diseño de prótesis personalizada.\")\n",
        "\n",
        "    protesis = None\n",
        "    while protesis is None:\n",
        "        protesis = obtener_medidas()\n",
        "\n",
        "    protesis.mostrar_detalles()\n",
        "\n",
        "# Ejecutar la simulación\n",
        "simulacion_protesis()\n"
      ],
      "metadata": {
        "colab": {
          "base_uri": "https://localhost:8080/"
        },
        "id": "jK4FBQosoDQP",
        "outputId": "1df17023-8860-40ec-8acd-301d7f7107e6"
      },
      "execution_count": 1,
      "outputs": [
        {
          "output_type": "stream",
          "name": "stdout",
          "text": [
            "Bienvenido al sistema de diseño de prótesis personalizada.\n",
            "Ingrese la longitud de la pierna (en cm): 54\n",
            "Ingrese el diámetro de la parte afectada (en cm): 45\n",
            "Detalles de la prótesis:\n",
            "Longitud de la pierna: 54.0 cm\n",
            "Diámetro de la parte afectada: 45.0 cm\n"
          ]
        }
      ]
    }
  ]
}