{
  "nbformat": 4,
  "nbformat_minor": 0,
  "metadata": {
    "colab": {
      "provenance": []
    },
    "kernelspec": {
      "name": "python3",
      "display_name": "Python 3"
    },
    "language_info": {
      "name": "python"
    }
  },
  "cells": [
    {
      "cell_type": "code",
      "execution_count": null,
      "metadata": {
        "id": "tI82-AXnp1e8"
      },
      "outputs": [],
      "source": [
        "# 5. Resolver una ecuación cuadrática (ax^2 + bx + c = 0)\n",
        "import math\n",
        "\n",
        "def resolver_ecuacion_cuadratica(a, b, c):\n",
        "    discriminante = b**2 - 4*a*c\n",
        "    if discriminante > 0:\n",
        "        x1 = (-b + math.sqrt(discriminante)) / (2*a)\n",
        "        x2 = (-b - math.sqrt(discriminante)) / (2*a)\n",
        "        return (x1, x2)\n",
        "    elif discriminante == 0:\n",
        "        x = -b / (2*a)\n",
        "        return (x,)\n",
        "    else:\n",
        "        return \"No tiene soluciones reales\""
      ]
    },
    {
      "cell_type": "code",
      "source": [
        "# 6. Determinar si un número es par o impar\n",
        "def es_par_o_impar(num):\n",
        "    if num % 2 == 0:\n",
        "        return \"Par\"\n",
        "    else:\n",
        "        return \"Impar\""
      ],
      "metadata": {
        "id": "Tpxb_bV2rUSr"
      },
      "execution_count": null,
      "outputs": []
    },
    {
      "cell_type": "code",
      "source": [
        "# 7. Determinar si un año es bisiesto\n",
        "def es_bisiesto(anio):\n",
        "    if (anio % 4 == 0 and anio % 100 != 0) or anio % 400 == 0:\n",
        "        return True\n",
        "    else:\n",
        "        return False"
      ],
      "metadata": {
        "id": "wa_3G9itrYd5"
      },
      "execution_count": null,
      "outputs": []
    },
    {
      "cell_type": "code",
      "source": [
        "# 8. Determinar si una persona es de la tercera edad\n",
        "def prioridad_tercera_edad(nombre, edad):\n",
        "    if edad >= 70:\n",
        "        return f\"{nombre}, se le da prioridad en la fila\"\n",
        "    else:\n",
        "        return f\"{nombre}, no pertenece a la tercera edad\"\n"
      ],
      "metadata": {
        "id": "Th4J7poirh-b"
      },
      "execution_count": null,
      "outputs": []
    },
    {
      "cell_type": "code",
      "source": [
        "# 9. Comparar tres números y mostrar el mayor\n",
        "def mayor_de_tres(num1, num2, num3):\n",
        "    return max(num1, num2, num3)\n"
      ],
      "metadata": {
        "id": "Gl2jAQi8rpr1"
      },
      "execution_count": null,
      "outputs": []
    },
    {
      "cell_type": "code",
      "source": [
        "# 10. Determinar tipo de triángulo por sus lados\n",
        "def tipo_triangulo(lado1, lado2, lado3):\n",
        "    if lado1 == lado2 == lado3:\n",
        "        return \"Equilátero\"\n",
        "    elif lado1 == lado2 or lado1 == lado3 or lado2 == lado3:\n",
        "        return \"Isósceles\"\n",
        "    else:\n",
        "        return \"Escaleno\""
      ],
      "metadata": {
        "id": "k0eMWX4erxDD"
      },
      "execution_count": null,
      "outputs": []
    },
    {
      "cell_type": "code",
      "source": [
        "# 11. Calcular IMC y determinar categoría\n",
        "def calcular_imc(nombre, peso, altura):\n",
        "    imc = peso / (altura ** 2)\n",
        "    if imc < 18.5:\n",
        "        categoria = \"Bajo peso\"\n",
        "        recomendacion = \"Debes aumentar de peso de manera saludable.\"\n",
        "    elif 18.5 <= imc < 24.9:\n",
        "        categoria = \"Normal\"\n",
        "        recomendacion = \"Mantén tu peso con una dieta balanceada.\"\n",
        "    elif 25 <= imc < 29.9:\n",
        "        categoria = \"Sobrepeso\"\n",
        "        recomendacion = \"Es recomendable hacer ejercicio y controlar la alimentación.\"\n",
        "    else:\n",
        "        categoria = \"Obesidad\"\n",
        "        recomendacion = \"Es importante consultar a un médico para un plan de salud.\"\n",
        "    return f\"{nombre}, tu IMC es {imc:.2f}, categoría: {categoria}. {recomendacion}\"\n"
      ],
      "metadata": {
        "id": "fgmSnVnVr_Gx"
      },
      "execution_count": null,
      "outputs": []
    },
    {
      "cell_type": "code",
      "source": [
        "# 12. Simular una calculadora simple\n",
        "def calculadora_simple(num1, num2, operacion):\n",
        "    if operacion == \"+\":\n",
        "        return num1 + num2\n",
        "    elif operacion == \"-\":\n",
        "        return num1 - num2\n",
        "    elif operacion == \"*\":\n",
        "        return num1 * num2\n",
        "    elif operacion == \"/\":\n",
        "        if num2 != 0:\n",
        "            return num1 / num2\n",
        "        else:\n",
        "            return \"Error: División por cero\"\n",
        "    else:\n",
        "        return \"Operación no válida\""
      ],
      "metadata": {
        "id": "oXls2MbosDi5"
      },
      "execution_count": null,
      "outputs": []
    },
    {
      "cell_type": "code",
      "source": [
        "# 13. Calificación en letras según una nota numérica\n",
        "def calificacion_en_letras(nota):\n",
        "    if 90 <= nota <= 100:\n",
        "        return \"A\"\n",
        "    elif 80 <= nota < 90:\n",
        "        return \"B\"\n",
        "    elif 70 <= nota < 80:\n",
        "        return \"C\"\n",
        "    elif 60 <= nota < 70:\n",
        "        return \"D\"\n",
        "    else:\n",
        "        return \"F\""
      ],
      "metadata": {
        "id": "ZFHh72WDsJVn"
      },
      "execution_count": null,
      "outputs": []
    },
    {
      "cell_type": "code",
      "source": [
        "# 14. Determinar el día de la semana según un número\n",
        "def dia_de_la_semana(dia_num):\n",
        "    dias = [\"Domingo\", \"Lunes\", \"Martes\", \"Miércoles\", \"Jueves\", \"Viernes\", \"Sábado\"]\n",
        "    if 1 <= dia_num <= 7:\n",
        "        return dias[dia_num - 1]\n",
        "    else:\n",
        "        return \"Número inválido\"\n"
      ],
      "metadata": {
        "id": "ssgjC_J_sSaJ"
      },
      "execution_count": null,
      "outputs": []
    },
    {
      "cell_type": "code",
      "source": [
        "# 15. Validar si tres números pueden formar un triángulo y de qué tipo\n",
        "def es_triangulo(lado1, lado2, lado3):\n",
        "    if lado1 + lado2 > lado3 and lado1 + lado3 > lado2 and lado2 + lado3 > lado1:\n",
        "        return tipo_triangulo(lado1, lado2, lado3)\n",
        "    else:\n",
        "        return \"No es un triángulo\""
      ],
      "metadata": {
        "id": "jaB9pdTesXHE"
      },
      "execution_count": null,
      "outputs": []
    },
    {
      "cell_type": "code",
      "source": [
        "# 16. Mostrar la tabla de multiplicar de un número hasta el 10\n",
        "def tabla_multiplicar(num):\n",
        "    for i in range(1, 11):\n",
        "        print(f\"{num} x {i} = {num * i}\")"
      ],
      "metadata": {
        "id": "R7C_Ka1LsdQI"
      },
      "execution_count": null,
      "outputs": []
    },
    {
      "cell_type": "code",
      "source": [
        "# 17. Calcular la suma de números naturales hasta n\n",
        "def suma_naturales(n):\n",
        "    suma = 0\n",
        "    for i in range(1, n + 1):\n",
        "        suma += i\n",
        "    return suma\n"
      ],
      "metadata": {
        "id": "XVZ8Nu_NsoRo"
      },
      "execution_count": null,
      "outputs": []
    },
    {
      "cell_type": "code",
      "source": [
        "def calcular_factorial(n):\n",
        "    if n < 0:\n",
        "        return \"No se pueden calcular factoriales de números negativos.\"\n",
        "    elif n == 0:\n",
        "        return 1\n",
        "    else:\n",
        "        factorial = 1\n",
        "        for i in range(1, n + 1):\n",
        "            factorial *= i\n",
        "        return factorial\n",
        "\n",
        "# Ejemplo de uso\n",
        "print(calcular_factorial(5))  # 120\n",
        "print(calcular_factorial(0))  # 1\n",
        "print(calcular_factorial(-3))  # \"No se pueden calcular factoriales de números negativos.\"\n"
      ],
      "metadata": {
        "colab": {
          "base_uri": "https://localhost:8080/"
        },
        "id": "46jIvptyspyq",
        "outputId": "935b7cd3-6346-406b-9084-047491b69470"
      },
      "execution_count": null,
      "outputs": [
        {
          "output_type": "stream",
          "name": "stdout",
          "text": [
            "120\n",
            "1\n",
            "No se pueden calcular factoriales de números negativos.\n"
          ]
        }
      ]
    },
    {
      "cell_type": "code",
      "source": [
        "def fibonacci(n):\n",
        "    fibo = []\n",
        "    a, b = 0, 1\n",
        "    for _ in range(n):\n",
        "        fibo.append(a)\n",
        "        a, b = b, a + b\n",
        "    return fibo\n",
        "\n",
        "# Ejemplo de uso\n",
        "print(fibonacci(10))  # Muestra los primeros 10 números de Fibonacci\n"
      ],
      "metadata": {
        "colab": {
          "base_uri": "https://localhost:8080/"
        },
        "id": "DPucBU4QteNf",
        "outputId": "7152c318-476a-4127-931f-0d620948be33"
      },
      "execution_count": null,
      "outputs": [
        {
          "output_type": "stream",
          "name": "stdout",
          "text": [
            "[0, 1, 1, 2, 3, 5, 8, 13, 21, 34]\n"
          ]
        }
      ]
    },
    {
      "cell_type": "code",
      "source": [
        "import random\n",
        "\n",
        "def adivinar_numero():\n",
        "    numero_secreto = random.randint(1, 10)\n",
        "    intentos = 0\n",
        "    print(\"Adivina el número entre 1 y 10.\")\n",
        "\n",
        "    while intentos < 3:  # Limitar intentos a 3\n",
        "        intento = int(input(\"Ingresa tu intento: \"))\n",
        "        if intento < numero_secreto:\n",
        "            print(\"El número es mayor.\")\n",
        "        elif intento > numero_secreto:\n",
        "            print(\"El número es menor.\")\n",
        "        else:\n",
        "            print(f\"¡Felicidades! Has adivinado el número {numero_secreto}.\")\n",
        "            return\n",
        "        intentos += 1\n",
        "\n",
        "    print(f\"Lo siento, has agotado tus intentos. El número era {numero_secreto}.\")\n",
        "\n",
        "# Ejemplo de uso\n",
        "adivinar_numero()  # Llama a la función y comienza el juego\n"
      ],
      "metadata": {
        "colab": {
          "base_uri": "https://localhost:8080/"
        },
        "id": "kGq_CXfVtrJR",
        "outputId": "ce7e4635-fb80-4d6e-a32d-4144725b789a"
      },
      "execution_count": null,
      "outputs": [
        {
          "output_type": "stream",
          "name": "stdout",
          "text": [
            "Adivina el número entre 1 y 10.\n",
            "Ingresa tu intento: 23\n",
            "El número es menor.\n",
            "Ingresa tu intento: 24\n",
            "El número es menor.\n",
            "Ingresa tu intento: 25\n",
            "El número es menor.\n",
            "Lo siento, has agotado tus intentos. El número era 2.\n"
          ]
        }
      ]
    },
    {
      "cell_type": "markdown",
      "source": [
        "Ana Valeria García Lozano/U00182087/actividadn autoevaluación."
      ],
      "metadata": {
        "id": "_4WBr7Fvt9uW"
      }
    }
  ]
}