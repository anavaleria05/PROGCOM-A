{
  "nbformat": 4,
  "nbformat_minor": 0,
  "metadata": {
    "colab": {
      "provenance": []
    },
    "kernelspec": {
      "name": "python3",
      "display_name": "Python 3"
    },
    "language_info": {
      "name": "python"
    }
  },
  "cells": [
    {
      "cell_type": "code",
      "execution_count": 2,
      "metadata": {
        "id": "pT3tQx9UQh7y"
      },
      "outputs": [],
      "source": [
        "class auto:\n",
        "  def mover (self):\n",
        "    print('el auto avanza por la carrera')\n",
        "\n",
        "class bicicleta:\n",
        "  def mover (self):\n",
        "     print('la bicicleta avanza por la carrera')\n",
        "\n",
        "class avión:\n",
        "  def mover (self):\n",
        "    print('El avión avanza en el cielo')"
      ]
    },
    {
      "cell_type": "code",
      "source": [
        "vehiculos =[auto(),bicicleta(),avión()]\n",
        "\n",
        "for v in vehiculos:\n",
        "  v.mover()"
      ],
      "metadata": {
        "colab": {
          "base_uri": "https://localhost:8080/"
        },
        "id": "Jgv6OBsjRDBB",
        "outputId": "eceb5725-a311-4e08-dcac-b48a49e8fcf6"
      },
      "execution_count": 3,
      "outputs": [
        {
          "output_type": "stream",
          "name": "stdout",
          "text": [
            "el auto avanza por la carrera\n",
            "la bicicleta avanza por la carrera\n",
            "El avión avanza en el cielo\n"
          ]
        }
      ]
    }
  ]
}