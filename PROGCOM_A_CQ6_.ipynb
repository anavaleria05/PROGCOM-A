{
  "nbformat": 4,
  "nbformat_minor": 0,
  "metadata": {
    "colab": {
      "provenance": []
    },
    "kernelspec": {
      "name": "python3",
      "display_name": "Python 3"
    },
    "language_info": {
      "name": "python"
    }
  },
  "cells": [
    {
      "cell_type": "markdown",
      "source": [
        "Ana Valeria García Lozano/U0182087.\n",
        "\n",
        "\n",
        "1.** False**: Es un valor booleano que representa la falsedad.\n",
        "2. **None**: Representa la ausencia de un valor o un valor nulo.\n",
        "3. **True**: Es un valor booleano que representa la verdad.\n",
        "4. **and**: Es un operador lógico que devuelve `True` si ambas expresiones son verdaderas.\n",
        "5. **as**: Se usa para crear un alias para un módulo o una excepción en un bloque `try`.\n",
        "6. **assert**: Se utiliza para realizar una comprobación de una condición, y si no es verdadera, lanza una excepción.\n",
        "7. **break**: Interrumpe un ciclo `for` o `while` y termina la ejecución del ciclo.\n",
        "8. **class**: Se utiliza para definir una nueva clase en Python.\n",
        "9. **continue**: Se usa dentro de un ciclo para saltar a la siguiente iteración sin ejecutar el resto del código en el ciclo actual.\n",
        "10. **def**: Se usa para definir una función.\n",
        "11. **del**: Elimina una variable, objeto o elemento de una lista, diccionario, etc.\n",
        "12. **elif**: \"Else if\", se usa en estructuras condicionales para verificar condiciones adicionales después de un `if`.\n",
        "13. **else**: Se usa en estructuras condicionales para ejecutar código si ninguna condición anterior se cumple.\n",
        "14. **except**: Captura las excepciones generadas en un bloque `try` y permite manejar errores.\n",
        "15. **finally**: Se utiliza para definir un bloque de código que se ejecuta siempre, sin importar si ocurrió una excepción o no.\n",
        "16. **for**: Se usa para crear un ciclo que itera sobre un objeto iterable (listas, tuplas, diccionarios, etc.).\n",
        "17. **from**: Se utiliza para importar una parte específica de un módulo.\n",
        "18. **global**: Declara una variable como global, lo que significa que se puede modificar en todo el programa, incluso dentro de funciones.\n",
        "19. **is**: Compara si dos objetos son idénticos (si tienen la misma ubicación en memoria).\n",
        "20. **lambda**: Define una función anónima, generalmente de una sola línea, sin necesidad de utilizar `def`.\n",
        "21. **nonlocal**: Se usa para declarar variables no locales en una función anidada, permitiendo modificar variables en ámbitos exteriores pero no globales.\n",
        "22. **not**: Es un operador lógico que invierte el valor de una expresión booleana.\n",
        "23. **import**: Se usa para importar módulos o bibliotecas externas.\n",
        "24. **in**: Se usa para verificar si un elemento está presente en una secuencia (como listas, tuplas, diccionarios, etc.).\n",
        "25. **pass**: Es una instrucción vacía, generalmente usada como marcador de posición.\n",
        "26. **raise**: Lanza una excepción en un programa.\n",
        "27. **return**: Se usa en una función para devolver un valor al lugar donde fue llamada la función.\n",
        "28. **try**: Se utiliza para iniciar un bloque de código que puede generar excepciones y que debe ser manejado.\n",
        "29. **while**: Define un ciclo que se repite mientras una condición sea verdadera.\n",
        "30. **with**: Se usa para envolver la ejecución de un bloque de código dentro de un contexto, generalmente para manejar recursos como archivos.\n",
        "31. **yield**: Se utiliza para devolver un valor desde una función generadora sin terminarla, permitiendo la reanudación de la función cuando sea necesario.\n",
        "32. **If**: Se usa para realizar una comparación y ejecutar un bloque de código si la condición es verdadera.\n",
        "33. **Or**: Es un operador lógico que devuelve `True` si al menos una de las expresiones es verdadera.\n"
      ],
      "metadata": {
        "id": "kNLSWveYPcFj"
      }
    },
    {
      "cell_type": "code",
      "source": [
        "a = False\n",
        "print(a)  # Imprime: False\n"
      ],
      "metadata": {
        "colab": {
          "base_uri": "https://localhost:8080/"
        },
        "id": "CA2arZq8QdK4",
        "outputId": "1d08c000-07f0-4362-b3af-b207b05b0411"
      },
      "execution_count": 1,
      "outputs": [
        {
          "output_type": "stream",
          "name": "stdout",
          "text": [
            "False\n"
          ]
        }
      ]
    },
    {
      "cell_type": "code",
      "source": [
        "b = None\n",
        "print(b)  # Imprime: None"
      ],
      "metadata": {
        "colab": {
          "base_uri": "https://localhost:8080/"
        },
        "id": "YzHkgBa9RXtK",
        "outputId": "fa2a77ea-a18f-4b18-b35d-0d7bc4a4de83"
      },
      "execution_count": 2,
      "outputs": [
        {
          "output_type": "stream",
          "name": "stdout",
          "text": [
            "None\n"
          ]
        }
      ]
    },
    {
      "cell_type": "code",
      "source": [
        "c = True\n",
        "print(c)  # Imprime: True"
      ],
      "metadata": {
        "colab": {
          "base_uri": "https://localhost:8080/"
        },
        "id": "YI5Y_G-HRcBA",
        "outputId": "3a578d5d-1eef-4426-95dc-70b77841b37b"
      },
      "execution_count": 3,
      "outputs": [
        {
          "output_type": "stream",
          "name": "stdout",
          "text": [
            "True\n"
          ]
        }
      ]
    },
    {
      "cell_type": "code",
      "source": [
        "x = True\n",
        "y = False\n",
        "if x and y:\n",
        "    print(\"Ambos son verdaderos\")\n",
        "else:\n",
        "    print(\"Al menos uno es falso\")  # Imprime: Al menos uno es falso"
      ],
      "metadata": {
        "colab": {
          "base_uri": "https://localhost:8080/"
        },
        "id": "1APbG-TjRfWQ",
        "outputId": "3eb3bc42-dc5e-4f08-9fbe-030fa7633760"
      },
      "execution_count": 4,
      "outputs": [
        {
          "output_type": "stream",
          "name": "stdout",
          "text": [
            "Al menos uno es falso\n"
          ]
        }
      ]
    },
    {
      "cell_type": "code",
      "source": [
        "try:\n",
        "    import math as m\n",
        "    print(m.sqrt(25))  # Imprime: 5.0\n",
        "except ImportError as e:\n",
        "    print(\"Error:\", e)"
      ],
      "metadata": {
        "colab": {
          "base_uri": "https://localhost:8080/"
        },
        "id": "ergxj8a_RwXG",
        "outputId": "0dbc606d-1204-461a-f878-d70b64f401d9"
      },
      "execution_count": 5,
      "outputs": [
        {
          "output_type": "stream",
          "name": "stdout",
          "text": [
            "5.0\n"
          ]
        }
      ]
    },
    {
      "cell_type": "code",
      "source": [
        "a = 5\n",
        "assert a > 0, \"a debe ser mayor que 0\"  # No lanza error, porque la condición es verdadera"
      ],
      "metadata": {
        "id": "XeWUDiuLR1fP"
      },
      "execution_count": 6,
      "outputs": []
    },
    {
      "cell_type": "code",
      "source": [
        "for i in range(5):\n",
        "    if i == 3:\n",
        "        break\n",
        "    print(i)  # Imprime: 0 1 2"
      ],
      "metadata": {
        "colab": {
          "base_uri": "https://localhost:8080/"
        },
        "id": "7rlYni1bR5CQ",
        "outputId": "fae259e1-50a2-4ed2-e7f4-11a93ef31524"
      },
      "execution_count": 7,
      "outputs": [
        {
          "output_type": "stream",
          "name": "stdout",
          "text": [
            "0\n",
            "1\n",
            "2\n"
          ]
        }
      ]
    },
    {
      "cell_type": "code",
      "source": [
        "class Persona:\n",
        "    def __init__(self, nombre):\n",
        "        self.nombre = nombre\n",
        "\n",
        "persona = Persona(\"Juan\")\n",
        "print(persona.nombre)  # Imprime: Juan"
      ],
      "metadata": {
        "colab": {
          "base_uri": "https://localhost:8080/"
        },
        "id": "uZHmg8qiR966",
        "outputId": "603947ff-e095-4dc3-fccc-0a20ce2e52f4"
      },
      "execution_count": 8,
      "outputs": [
        {
          "output_type": "stream",
          "name": "stdout",
          "text": [
            "Juan\n"
          ]
        }
      ]
    },
    {
      "cell_type": "code",
      "source": [
        "for i in range(5):\n",
        "    if i == 2:\n",
        "        continue\n",
        "    print(i)  # Imprime: 0 1 3 4"
      ],
      "metadata": {
        "colab": {
          "base_uri": "https://localhost:8080/"
        },
        "id": "T3oZu1X7SBfV",
        "outputId": "14fcfeca-f39b-43d5-cf2d-74aff3fd921b"
      },
      "execution_count": 9,
      "outputs": [
        {
          "output_type": "stream",
          "name": "stdout",
          "text": [
            "0\n",
            "1\n",
            "3\n",
            "4\n"
          ]
        }
      ]
    },
    {
      "cell_type": "code",
      "source": [
        "def saludo(nombre):\n",
        "    return f\"Hola, {nombre}\"\n",
        "\n",
        "print(saludo(\"Ana\"))  # Imprime: Hola, Ana"
      ],
      "metadata": {
        "colab": {
          "base_uri": "https://localhost:8080/"
        },
        "id": "cvlocmy1SEl2",
        "outputId": "dd6d9612-da49-4ec4-ec17-389fdc05a14e"
      },
      "execution_count": 10,
      "outputs": [
        {
          "output_type": "stream",
          "name": "stdout",
          "text": [
            "Hola, Ana\n"
          ]
        }
      ]
    },
    {
      "cell_type": "code",
      "source": [
        "a = 5\n",
        "del a\n",
        "# print(a)  # Lanza un error: NameError, porque 'a' ha sido eliminada."
      ],
      "metadata": {
        "id": "hRJjxdUrSJh5"
      },
      "execution_count": 11,
      "outputs": []
    },
    {
      "cell_type": "code",
      "source": [
        "x = 5\n",
        "if x > 10:\n",
        "    print(\"Mayor que 10\")\n",
        "elif x == 5:\n",
        "    print(\"Es igual a 5\")  # Imprime: Es igual a 5\n",
        "else:\n",
        "    print(\"Menor que 5\")"
      ],
      "metadata": {
        "colab": {
          "base_uri": "https://localhost:8080/"
        },
        "id": "hoK3JleNSNu9",
        "outputId": "10bc5185-248c-4aa8-cc1d-27625a2bc000"
      },
      "execution_count": 12,
      "outputs": [
        {
          "output_type": "stream",
          "name": "stdout",
          "text": [
            "Es igual a 5\n"
          ]
        }
      ]
    },
    {
      "cell_type": "code",
      "source": [
        "x = 3\n",
        "if x == 4:\n",
        "    print(\"Es 4\")\n",
        "else:\n",
        "    print(\"No es 4\")  # Imprime: No es 4"
      ],
      "metadata": {
        "colab": {
          "base_uri": "https://localhost:8080/"
        },
        "id": "ekRK-b6XSQ77",
        "outputId": "1e9755dd-d373-4e55-8431-ea264fc47957"
      },
      "execution_count": 13,
      "outputs": [
        {
          "output_type": "stream",
          "name": "stdout",
          "text": [
            "No es 4\n"
          ]
        }
      ]
    },
    {
      "cell_type": "code",
      "source": [
        "try:\n",
        "    result = 10 / 0\n",
        "except ZeroDivisionError:\n",
        "    print(\"Error: No se puede dividir por cero\")  # Imprime: Error: No se puede dividir por cero"
      ],
      "metadata": {
        "colab": {
          "base_uri": "https://localhost:8080/"
        },
        "id": "PCCsQu1QSU5X",
        "outputId": "390f3da9-ec03-4b90-b9f3-bcf156d48c72"
      },
      "execution_count": 14,
      "outputs": [
        {
          "output_type": "stream",
          "name": "stdout",
          "text": [
            "Error: No se puede dividir por cero\n"
          ]
        }
      ]
    },
    {
      "cell_type": "code",
      "source": [
        "try:\n",
        "    result = 10 / 2\n",
        "except ZeroDivisionError:\n",
        "    print(\"Error\")\n",
        "finally:\n",
        "    print(\"Esto se ejecuta siempre\")  # Imprime: Esto se ejecuta siempre"
      ],
      "metadata": {
        "colab": {
          "base_uri": "https://localhost:8080/"
        },
        "id": "FZ2IZKu7SaDK",
        "outputId": "aa60e4a2-195e-43f8-f1f9-640ac5e5a2e8"
      },
      "execution_count": 15,
      "outputs": [
        {
          "output_type": "stream",
          "name": "stdout",
          "text": [
            "Esto se ejecuta siempre\n"
          ]
        }
      ]
    },
    {
      "cell_type": "code",
      "source": [
        "for i in range(3):\n",
        "    print(f\"Iteración {i}\")  # Imprime: Iteración 0 Iteración 1 Iteración 2"
      ],
      "metadata": {
        "colab": {
          "base_uri": "https://localhost:8080/"
        },
        "id": "P3D4a9nUSdyW",
        "outputId": "8b066bed-e407-4ef7-b7e2-a8e9a04c1262"
      },
      "execution_count": 16,
      "outputs": [
        {
          "output_type": "stream",
          "name": "stdout",
          "text": [
            "Iteración 0\n",
            "Iteración 1\n",
            "Iteración 2\n"
          ]
        }
      ]
    },
    {
      "cell_type": "code",
      "source": [
        "from math import sqrt\n",
        "print(sqrt(16))  # Imprime: 4.0"
      ],
      "metadata": {
        "colab": {
          "base_uri": "https://localhost:8080/"
        },
        "id": "hXSCeti0Sit0",
        "outputId": "2b41f974-9d9b-4546-bf75-b4651a866430"
      },
      "execution_count": 17,
      "outputs": [
        {
          "output_type": "stream",
          "name": "stdout",
          "text": [
            "4.0\n"
          ]
        }
      ]
    },
    {
      "cell_type": "code",
      "source": [
        "x = 10\n",
        "def cambio_global():\n",
        "    global x\n",
        "    x = 20\n",
        "\n",
        "cambio_global()\n",
        "print(x)  # Imprime: 20"
      ],
      "metadata": {
        "colab": {
          "base_uri": "https://localhost:8080/"
        },
        "id": "hJs5A0hySu89",
        "outputId": "5859d83a-8451-450a-9b89-5d2d7727a6e6"
      },
      "execution_count": 18,
      "outputs": [
        {
          "output_type": "stream",
          "name": "stdout",
          "text": [
            "20\n"
          ]
        }
      ]
    },
    {
      "cell_type": "code",
      "source": [
        "a = [1, 2, 3]\n",
        "b = a\n",
        "print(a is b)  # Imprime: True"
      ],
      "metadata": {
        "colab": {
          "base_uri": "https://localhost:8080/"
        },
        "id": "2a2aitY0SzjK",
        "outputId": "f02ba9a6-77d2-45ca-93d1-d79867812c82"
      },
      "execution_count": 19,
      "outputs": [
        {
          "output_type": "stream",
          "name": "stdout",
          "text": [
            "True\n"
          ]
        }
      ]
    },
    {
      "cell_type": "code",
      "source": [
        "sumar = lambda x, y: x + y\n",
        "print(sumar(2, 3))  # Imprime: 5"
      ],
      "metadata": {
        "colab": {
          "base_uri": "https://localhost:8080/"
        },
        "id": "diiV-8NbTAWt",
        "outputId": "c42d9246-0434-4da3-825c-64e916e0d306"
      },
      "execution_count": 20,
      "outputs": [
        {
          "output_type": "stream",
          "name": "stdout",
          "text": [
            "5\n"
          ]
        }
      ]
    },
    {
      "cell_type": "code",
      "source": [
        "def exterior():\n",
        "    x = 10\n",
        "    def interior():\n",
        "        nonlocal x\n",
        "        x += 5\n",
        "    interior()\n",
        "    print(x)  # Imprime: 15\n",
        "\n",
        "exterior()"
      ],
      "metadata": {
        "colab": {
          "base_uri": "https://localhost:8080/"
        },
        "id": "zX6eEsaETDoM",
        "outputId": "673a5bff-cec3-460d-e28c-6044fe36ca51"
      },
      "execution_count": 21,
      "outputs": [
        {
          "output_type": "stream",
          "name": "stdout",
          "text": [
            "15\n"
          ]
        }
      ]
    },
    {
      "cell_type": "code",
      "source": [
        "x = True\n",
        "print(not x)  # Imprime: False"
      ],
      "metadata": {
        "colab": {
          "base_uri": "https://localhost:8080/"
        },
        "id": "X8denHQITHtb",
        "outputId": "1785750a-7c64-48ca-9b8f-7c960def3458"
      },
      "execution_count": 22,
      "outputs": [
        {
          "output_type": "stream",
          "name": "stdout",
          "text": [
            "False\n"
          ]
        }
      ]
    },
    {
      "cell_type": "code",
      "source": [
        "import math\n",
        "print(math.sqrt(25))  # Imprime: 5.0"
      ],
      "metadata": {
        "colab": {
          "base_uri": "https://localhost:8080/"
        },
        "id": "HV1_r-vkTPeB",
        "outputId": "5e2b6321-6fcf-481f-9f0f-304cb9fe3497"
      },
      "execution_count": 23,
      "outputs": [
        {
          "output_type": "stream",
          "name": "stdout",
          "text": [
            "5.0\n"
          ]
        }
      ]
    },
    {
      "cell_type": "code",
      "source": [
        "lista = [1, 2, 3, 4]\n",
        "if 3 in lista:\n",
        "    print(\"3 está en la lista\")  # Imprime: 3 está en la lista"
      ],
      "metadata": {
        "colab": {
          "base_uri": "https://localhost:8080/"
        },
        "id": "W7x1gVeDTWNQ",
        "outputId": "4ed0bbde-573a-45dd-f311-d693fb883683"
      },
      "execution_count": 24,
      "outputs": [
        {
          "output_type": "stream",
          "name": "stdout",
          "text": [
            "3 está en la lista\n"
          ]
        }
      ]
    },
    {
      "cell_type": "code",
      "source": [
        "def funcion_vacia():\n",
        "    pass  # No hace nada\n",
        "\n",
        "funcion_vacia()"
      ],
      "metadata": {
        "id": "OeDMIj2yTcxK"
      },
      "execution_count": 25,
      "outputs": []
    },
    {
      "cell_type": "code",
      "source": [
        "try:\n",
        "    raise ValueError(\"Un error ocurrió\")\n",
        "except ValueError as e:\n",
        "    print(e)  # Imprime: Un error ocurrió"
      ],
      "metadata": {
        "colab": {
          "base_uri": "https://localhost:8080/"
        },
        "id": "x5lpyqgzgPWk",
        "outputId": "1ec1f58e-1e31-4e15-b85e-e99c75156dab"
      },
      "execution_count": 26,
      "outputs": [
        {
          "output_type": "stream",
          "name": "stdout",
          "text": [
            "Un error ocurrió\n"
          ]
        }
      ]
    },
    {
      "cell_type": "code",
      "source": [
        "def multiplicar(x, y):\n",
        "    return x * y\n",
        "\n",
        "print(multiplicar(3, 4))  # Imprime: 12"
      ],
      "metadata": {
        "colab": {
          "base_uri": "https://localhost:8080/"
        },
        "id": "2gGbA6QTgUW3",
        "outputId": "ae8e853e-6b1c-49c7-e46f-5c05e308c3a4"
      },
      "execution_count": 27,
      "outputs": [
        {
          "output_type": "stream",
          "name": "stdout",
          "text": [
            "12\n"
          ]
        }
      ]
    },
    {
      "cell_type": "code",
      "source": [
        "try:\n",
        "    a = 5 / 0\n",
        "except ZeroDivisionError:\n",
        "    print(\"No se puede dividir por cero\")  # Imprime: No se puede dividir por cero"
      ],
      "metadata": {
        "colab": {
          "base_uri": "https://localhost:8080/"
        },
        "id": "BWKxV-HIgcFl",
        "outputId": "2c024b5d-ca75-4bfa-98ff-242c44b5f981"
      },
      "execution_count": 28,
      "outputs": [
        {
          "output_type": "stream",
          "name": "stdout",
          "text": [
            "No se puede dividir por cero\n"
          ]
        }
      ]
    },
    {
      "cell_type": "code",
      "source": [
        "x = 0\n",
        "while x < 3:\n",
        "    print(x)\n",
        "    x += 1  # Imprime: 0 1 2"
      ],
      "metadata": {
        "colab": {
          "base_uri": "https://localhost:8080/"
        },
        "id": "uOf_mKeBgog8",
        "outputId": "14dc2f10-3c8b-4df4-aeae-0edd38b3b609"
      },
      "execution_count": 29,
      "outputs": [
        {
          "output_type": "stream",
          "name": "stdout",
          "text": [
            "0\n",
            "1\n",
            "2\n"
          ]
        }
      ]
    },
    {
      "cell_type": "code",
      "source": [
        "with open(\"archivo.txt\", \"w\") as archivo:\n",
        "    archivo.write(\"Hola mundo\")  # Crea un archivo \"archivo.txt\" con \"Hola mundo\""
      ],
      "metadata": {
        "id": "vHHGJEfwgtND"
      },
      "execution_count": 30,
      "outputs": []
    },
    {
      "cell_type": "code",
      "source": [
        "def generador():\n",
        "    yield 1\n",
        "    yield 2\n",
        "    yield 3\n",
        "\n",
        "for num in generador():\n",
        "    print(num)  # Imprime: 1 2 3"
      ],
      "metadata": {
        "colab": {
          "base_uri": "https://localhost:8080/"
        },
        "id": "1i2IU1Xlgx8z",
        "outputId": "3ad0ce34-bc3c-469f-fa8f-d7764c13d1b2"
      },
      "execution_count": 31,
      "outputs": [
        {
          "output_type": "stream",
          "name": "stdout",
          "text": [
            "1\n",
            "2\n",
            "3\n"
          ]
        }
      ]
    },
    {
      "cell_type": "code",
      "source": [
        "if True:\n",
        "    print(\"Esto es verdadero\")  # Imprime: Esto es verdadero"
      ],
      "metadata": {
        "colab": {
          "base_uri": "https://localhost:8080/"
        },
        "id": "QQYaEwc9g8uN",
        "outputId": "29b9062c-38c5-4b7d-c899-d9931ac0253f"
      },
      "execution_count": 32,
      "outputs": [
        {
          "output_type": "stream",
          "name": "stdout",
          "text": [
            "Esto es verdadero\n"
          ]
        }
      ]
    },
    {
      "cell_type": "code",
      "source": [
        "x = True\n",
        "y = False\n",
        "if x or y:\n",
        "    print(\"Al menos una condición es verdadera\")  # Imprime: Al menos una condición es verdadera"
      ],
      "metadata": {
        "colab": {
          "base_uri": "https://localhost:8080/"
        },
        "id": "yn7vBzTghEYw",
        "outputId": "123593ca-5b41-439c-d60f-e58adff4f9d3"
      },
      "execution_count": 33,
      "outputs": [
        {
          "output_type": "stream",
          "name": "stdout",
          "text": [
            "Al menos una condición es verdadera\n"
          ]
        }
      ]
    }
  ]
}