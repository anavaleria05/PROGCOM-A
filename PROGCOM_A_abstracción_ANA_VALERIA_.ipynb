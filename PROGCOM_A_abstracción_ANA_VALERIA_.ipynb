{
  "nbformat": 4,
  "nbformat_minor": 0,
  "metadata": {
    "colab": {
      "provenance": []
    },
    "kernelspec": {
      "name": "python3",
      "display_name": "Python 3"
    },
    "language_info": {
      "name": "python"
    }
  },
  "cells": [
    {
      "cell_type": "code",
      "execution_count": 1,
      "metadata": {
        "colab": {
          "base_uri": "https://localhost:8080/"
        },
        "id": "jRIBsuKIcPdo",
        "outputId": "4e7d25c2-0035-408b-a260-df0582f4d0c0"
      },
      "outputs": [
        {
          "output_type": "stream",
          "name": "stdout",
          "text": [
            "Persona 1: Aprobado: La puntuación es 13.\n",
            "Persona 2: Rechazado: La puntuación es 4.\n",
            "Persona 3: Aprobado: La puntuación es 10.\n"
          ]
        }
      ],
      "source": [
        "def evaluar_credito(persona):\n",
        "    # Inicializar la puntuación\n",
        "    puntuacion = 0\n",
        "\n",
        "    # Evaluar los criterios de la persona\n",
        "    if persona['tarjetas_otras_franquicias']:\n",
        "        puntuacion += 1\n",
        "    if not persona['reportado_riesgo']:\n",
        "        puntuacion += 3\n",
        "    if persona['trabajo_termino_definido']:\n",
        "        puntuacion += 2\n",
        "    if persona['trabajo_termino_indefinido']:\n",
        "        puntuacion += 3\n",
        "    if persona['credito_anterior']:\n",
        "        puntuacion += 2\n",
        "    if persona['credito_misma_entidad']:\n",
        "        puntuacion += 3\n",
        "\n",
        "    # Evaluar la edad\n",
        "    edad = persona['edad']\n",
        "    if 18 <= edad <= 22:\n",
        "        puntuacion += 2\n",
        "    elif 23 <= edad <= 30:\n",
        "        puntuacion += 4\n",
        "    elif 31 <= edad <= 40:\n",
        "        puntuacion += 3\n",
        "    elif edad > 41:\n",
        "        puntuacion += 1\n",
        "\n",
        "    # Evaluar si la puntuación es suficiente para aprobar el crédito\n",
        "    if puntuacion >= 6:\n",
        "        return f\"Aprobado: La puntuación es {puntuacion}.\"\n",
        "    else:\n",
        "        return f\"Rechazado: La puntuación es {puntuacion}.\"\n",
        "\n",
        "# Lista de personas (ejemplo)\n",
        "personas = [\n",
        "    {'tarjetas_otras_franquicias': True, 'reportado_riesgo': False, 'trabajo_termino_definido': False,\n",
        "     'trabajo_termino_indefinido': True, 'credito_anterior': True, 'credito_misma_entidad': False, 'edad': 28},\n",
        "\n",
        "    {'tarjetas_otras_franquicias': False, 'reportado_riesgo': True, 'trabajo_termino_definido': True,\n",
        "     'trabajo_termino_indefinido': False, 'credito_anterior': False, 'credito_misma_entidad': False, 'edad': 22},\n",
        "\n",
        "    {'tarjetas_otras_franquicias': True, 'reportado_riesgo': False, 'trabajo_termino_definido': False,\n",
        "     'trabajo_termino_indefinido': False, 'credito_anterior': False, 'credito_misma_entidad': True, 'edad': 35},\n",
        "]\n",
        "\n",
        "# Evaluar todas las personas\n",
        "for i, persona in enumerate(personas, 1):\n",
        "    print(f\"Persona {i}: {evaluar_credito(persona)}\")\n"
      ]
    }
  ]
}