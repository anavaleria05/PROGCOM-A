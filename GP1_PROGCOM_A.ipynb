{
  "nbformat": 4,
  "nbformat_minor": 0,
  "metadata": {
    "colab": {
      "provenance": []
    },
    "kernelspec": {
      "name": "python3",
      "display_name": "Python 3"
    },
    "language_info": {
      "name": "python"
    }
  },
  "cells": [
    {
      "cell_type": "code",
      "execution_count": 3,
      "metadata": {
        "colab": {
          "base_uri": "https://localhost:8080/"
        },
        "id": "DSzW5bPkQx5Q",
        "outputId": "c65c3127-cb25-426f-effd-96fbdc3790cc"
      },
      "outputs": [
        {
          "output_type": "stream",
          "name": "stdout",
          "text": [
            "Selecciona una opción:\n",
            "1. Piedra 🪨\n",
            "2. Papel 📄\n",
            "3. Tijera ✂️\n",
            "Ingresa el número de tu elección: 2\n",
            "Tú elegiste: 📄\n",
            "La computadora eligió: 📄\n",
            "Empate 🤝\n"
          ]
        }
      ],
      "source": [
        "import random\n",
        "\n",
        "# Definir las opciones con emojis\n",
        "opciones = {\n",
        "    \"piedra\": \"🪨\",\n",
        "    \"papel\": \"📄\",\n",
        "    \"tijera\": \"✂️\"\n",
        "}\n",
        "\n",
        "# Función para obtener la opción del jugador\n",
        "def obtener_opcion_jugador():\n",
        "    print(\"Selecciona una opción:\")\n",
        "    print(\"1. Piedra 🪨\")\n",
        "    print(\"2. Papel 📄\")\n",
        "    print(\"3. Tijera ✂️\")\n",
        "\n",
        "    seleccion = input(\"Ingresa el número de tu elección: \")\n",
        "\n",
        "    if seleccion == \"1\":\n",
        "        return \"piedra\"\n",
        "    elif seleccion == \"2\":\n",
        "        return \"papel\"\n",
        "    elif seleccion == \"3\":\n",
        "        return \"tijera\"\n",
        "    else:\n",
        "        print(\"Opción inválida. Intenta de nuevo.\")\n",
        "        return obtener_opcion_jugador()\n",
        "\n",
        "# Función para obtener la opción de la computadora\n",
        "def obtener_opcion_computadora():\n",
        "    return random.choice([\"piedra\", \"papel\", \"tijera\"])\n",
        "\n",
        "# Función para determinar el ganador\n",
        "def determinar_ganador(jugador, computadora):\n",
        "    if jugador == computadora:\n",
        "        return \"Empate 🤝\"\n",
        "    elif (jugador == \"piedra\" and computadora == \"tijera\") or \\\n",
        "         (jugador == \"papel\" and computadora == \"piedra\") or \\\n",
        "         (jugador == \"tijera\" and computadora == \"papel\"):\n",
        "        return \"¡Ganaste! 🎉\"\n",
        "    else:\n",
        "        return \"Perdiste 😔\"\n",
        "\n",
        "# Juego principal\n",
        "def jugar():\n",
        "    jugador = obtener_opcion_jugador()\n",
        "    computadora = obtener_opcion_computadora()\n",
        "\n",
        "    print(f\"Tú elegiste: {opciones[jugador]}\")\n",
        "    print(f\"La computadora eligió: {opciones[computadora]}\")\n",
        "\n",
        "    resultado = determinar_ganador(jugador, computadora)\n",
        "    print(resultado)\n",
        "\n",
        "# Ejecutar el juego\n",
        "if __name__ == \"__main__\":\n",
        "    jugar()\n"
      ]
    }
  ]
}