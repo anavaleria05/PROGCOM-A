{
  "nbformat": 4,
  "nbformat_minor": 0,
  "metadata": {
    "colab": {
      "provenance": []
    },
    "kernelspec": {
      "name": "python3",
      "display_name": "Python 3"
    },
    "language_info": {
      "name": "python"
    }
  },
  "cells": [
    {
      "cell_type": "markdown",
      "source": [
        "Ana Valeria García Lozano/ U00182087.\n",
        "actividad puntos 15 a 25 con diccionario"
      ],
      "metadata": {
        "id": "68MP0GOYB8L_"
      }
    },
    {
      "cell_type": "code",
      "source": [
        "# Función que genera la tabla de multiplicar de un número hasta el 10\n",
        "def tabla_multiplicar(numero):\n",
        "    tabla = {}  # Diccionario para almacenar los resultados\n",
        "    for i in range(1, 11):\n",
        "        tabla[i] = numero * i\n",
        "    return tabla\n",
        "\n",
        "# Solicitar al usuario el número del cual desea la tabla de multiplicar\n",
        "numero = int(input(\"Ingrese el número para ver su tabla de multiplicar: \"))\n",
        "\n",
        "# Obtener la tabla de multiplicar usando el diccionario\n",
        "tabla = tabla_multiplicar(numero)\n",
        "\n",
        "# Mostrar la tabla de multiplicar\n",
        "print(f\"\\nTabla de multiplicar del {numero}:\")\n",
        "for clave, valor in tabla.items():\n",
        "    print(f\"{numero} x {clave} = {valor}\")\n"
      ],
      "metadata": {
        "colab": {
          "base_uri": "https://localhost:8080/"
        },
        "id": "oZlz1za6CgRG",
        "outputId": "c23a7f3b-15ef-4174-9f35-28c0d86a655f"
      },
      "execution_count": null,
      "outputs": [
        {
          "output_type": "stream",
          "name": "stdout",
          "text": [
            "Ingrese el número para ver su tabla de multiplicar: 2\n",
            "\n",
            "Tabla de multiplicar del 2:\n",
            "2 x 1 = 2\n",
            "2 x 2 = 4\n",
            "2 x 3 = 6\n",
            "2 x 4 = 8\n",
            "2 x 5 = 10\n",
            "2 x 6 = 12\n",
            "2 x 7 = 14\n",
            "2 x 8 = 16\n",
            "2 x 9 = 18\n",
            "2 x 10 = 20\n"
          ]
        }
      ]
    },
    {
      "cell_type": "code",
      "source": [
        "# Función que calcula la suma de números naturales hasta n\n",
        "def suma_naturales(n):\n",
        "    suma = 0\n",
        "    diccionario_suma = {}  # Diccionario para almacenar los números y sus sumas\n",
        "    for i in range(1, n + 1):\n",
        "        suma += i\n",
        "        diccionario_suma[i] = suma  # Almacena la suma parcial de los primeros i números naturales\n",
        "    return diccionario_suma\n",
        "\n",
        "# Solicitar al usuario el valor de n\n",
        "n = int(input(\"Ingrese un número natural n para calcular la suma hasta n: \"))\n",
        "\n",
        "# Obtener el diccionario con las sumas parciales\n",
        "suma_parcial = suma_naturales(n)\n",
        "\n",
        "# Mostrar las sumas parciales\n",
        "print(f\"\\nSuma de números naturales hasta {n}:\")\n",
        "for clave, valor in suma_parcial.items():\n",
        "    print(f\"Suma de los primeros {clave} números: {valor}\")\n"
      ],
      "metadata": {
        "colab": {
          "base_uri": "https://localhost:8080/"
        },
        "id": "K0_ptdLOClaU",
        "outputId": "8ff3dd79-bdac-43f5-a94a-a5b58afd8341"
      },
      "execution_count": null,
      "outputs": [
        {
          "output_type": "stream",
          "name": "stdout",
          "text": [
            "Ingrese un número natural n para calcular la suma hasta n: 6\n",
            "\n",
            "Suma de números naturales hasta 6:\n",
            "Suma de los primeros 1 números: 1\n",
            "Suma de los primeros 2 números: 3\n",
            "Suma de los primeros 3 números: 6\n",
            "Suma de los primeros 4 números: 10\n",
            "Suma de los primeros 5 números: 15\n",
            "Suma de los primeros 6 números: 21\n"
          ]
        }
      ]
    },
    {
      "cell_type": "code",
      "source": [
        "# Función que calcula el factorial de un número\n",
        "def calcular_factorial(n):\n",
        "    if n < 0:\n",
        "        return \"No existen factoriales negativos.\"\n",
        "\n",
        "    factorial = 1\n",
        "    diccionario_factorial = {}  # Diccionario para almacenar los resultados de cada paso\n",
        "    for i in range(1, n + 1):\n",
        "        factorial *= i\n",
        "        diccionario_factorial[i] = factorial  # Almacena el factorial de cada número hasta n\n",
        "\n",
        "    return diccionario_factorial, factorial\n",
        "\n",
        "# Solicitar al usuario el número para calcular el factorial\n",
        "n = int(input(\"Ingrese un número para calcular su factorial: \"))\n",
        "\n",
        "# Verificar si el número es negativo\n",
        "if n < 0:\n",
        "    print(\"No existen factoriales negativos.\")\n",
        "else:\n",
        "    # Obtener el diccionario con los factoriales parciales y el factorial final\n",
        "    diccionario, factorial_final = calcular_factorial(n)\n",
        "\n",
        "    # Mostrar los factoriales parciales\n",
        "    print(f\"\\nFactoriales parciales hasta {n}:\")\n",
        "    for clave, valor in diccionario.items():\n",
        "        print(f\"Factorial de {clave} es: {valor}\")\n",
        "\n",
        "    # Mostrar el factorial final\n",
        "    print(f\"\\nEl factorial de {n} es: {factorial_final}\")\n"
      ],
      "metadata": {
        "colab": {
          "base_uri": "https://localhost:8080/"
        },
        "id": "5LcW7C5GEV4-",
        "outputId": "cb1a1603-63c7-4546-8938-7166c79b71bd"
      },
      "execution_count": null,
      "outputs": [
        {
          "output_type": "stream",
          "name": "stdout",
          "text": [
            "Ingrese un número para calcular su factorial: 4\n",
            "\n",
            "Factoriales parciales hasta 4:\n",
            "Factorial de 1 es: 1\n",
            "Factorial de 2 es: 2\n",
            "Factorial de 3 es: 6\n",
            "Factorial de 4 es: 24\n",
            "\n",
            "El factorial de 4 es: 24\n"
          ]
        }
      ]
    },
    {
      "cell_type": "code",
      "source": [
        "# Función que genera los primeros n números de la serie Fibonacci\n",
        "def fibonacci(n):\n",
        "    fibonacci_dict = {}  # Diccionario para almacenar los números de la serie Fibonacci\n",
        "    a, b = 0, 1\n",
        "    for i in range(n):\n",
        "        fibonacci_dict[i+1] = a  # Almacena el número Fibonacci en el diccionario\n",
        "        a, b = b, a + b  # Actualiza los valores de a y b para la siguiente iteración\n",
        "    return fibonacci_dict\n",
        "\n",
        "# Solicitar al usuario el valor de n\n",
        "n = int(input(\"Ingrese el valor de n para mostrar los primeros n números de la serie Fibonacci: \"))\n",
        "\n",
        "# Obtener la serie Fibonacci usando el diccionario\n",
        "fibonacci_series = fibonacci(n)\n",
        "\n",
        "# Mostrar los números de la serie Fibonacci\n",
        "print(f\"\\nLos primeros {n} números de la serie Fibonacci son:\")\n",
        "for clave, valor in fibonacci_series.items():\n",
        "    print(f\"F({clave}) = {valor}\")\n"
      ],
      "metadata": {
        "colab": {
          "base_uri": "https://localhost:8080/"
        },
        "id": "eYWWnEpUEfZV",
        "outputId": "0dba2954-d52e-4372-c142-11d1f26064d0"
      },
      "execution_count": null,
      "outputs": [
        {
          "output_type": "stream",
          "name": "stdout",
          "text": [
            "Ingrese el valor de n para mostrar los primeros n números de la serie Fibonacci: 87\n",
            "\n",
            "Los primeros 87 números de la serie Fibonacci son:\n",
            "F(1) = 0\n",
            "F(2) = 1\n",
            "F(3) = 1\n",
            "F(4) = 2\n",
            "F(5) = 3\n",
            "F(6) = 5\n",
            "F(7) = 8\n",
            "F(8) = 13\n",
            "F(9) = 21\n",
            "F(10) = 34\n",
            "F(11) = 55\n",
            "F(12) = 89\n",
            "F(13) = 144\n",
            "F(14) = 233\n",
            "F(15) = 377\n",
            "F(16) = 610\n",
            "F(17) = 987\n",
            "F(18) = 1597\n",
            "F(19) = 2584\n",
            "F(20) = 4181\n",
            "F(21) = 6765\n",
            "F(22) = 10946\n",
            "F(23) = 17711\n",
            "F(24) = 28657\n",
            "F(25) = 46368\n",
            "F(26) = 75025\n",
            "F(27) = 121393\n",
            "F(28) = 196418\n",
            "F(29) = 317811\n",
            "F(30) = 514229\n",
            "F(31) = 832040\n",
            "F(32) = 1346269\n",
            "F(33) = 2178309\n",
            "F(34) = 3524578\n",
            "F(35) = 5702887\n",
            "F(36) = 9227465\n",
            "F(37) = 14930352\n",
            "F(38) = 24157817\n",
            "F(39) = 39088169\n",
            "F(40) = 63245986\n",
            "F(41) = 102334155\n",
            "F(42) = 165580141\n",
            "F(43) = 267914296\n",
            "F(44) = 433494437\n",
            "F(45) = 701408733\n",
            "F(46) = 1134903170\n",
            "F(47) = 1836311903\n",
            "F(48) = 2971215073\n",
            "F(49) = 4807526976\n",
            "F(50) = 7778742049\n",
            "F(51) = 12586269025\n",
            "F(52) = 20365011074\n",
            "F(53) = 32951280099\n",
            "F(54) = 53316291173\n",
            "F(55) = 86267571272\n",
            "F(56) = 139583862445\n",
            "F(57) = 225851433717\n",
            "F(58) = 365435296162\n",
            "F(59) = 591286729879\n",
            "F(60) = 956722026041\n",
            "F(61) = 1548008755920\n",
            "F(62) = 2504730781961\n",
            "F(63) = 4052739537881\n",
            "F(64) = 6557470319842\n",
            "F(65) = 10610209857723\n",
            "F(66) = 17167680177565\n",
            "F(67) = 27777890035288\n",
            "F(68) = 44945570212853\n",
            "F(69) = 72723460248141\n",
            "F(70) = 117669030460994\n",
            "F(71) = 190392490709135\n",
            "F(72) = 308061521170129\n",
            "F(73) = 498454011879264\n",
            "F(74) = 806515533049393\n",
            "F(75) = 1304969544928657\n",
            "F(76) = 2111485077978050\n",
            "F(77) = 3416454622906707\n",
            "F(78) = 5527939700884757\n",
            "F(79) = 8944394323791464\n",
            "F(80) = 14472334024676221\n",
            "F(81) = 23416728348467685\n",
            "F(82) = 37889062373143906\n",
            "F(83) = 61305790721611591\n",
            "F(84) = 99194853094755497\n",
            "F(85) = 160500643816367088\n",
            "F(86) = 259695496911122585\n",
            "F(87) = 420196140727489673\n"
          ]
        }
      ]
    },
    {
      "cell_type": "code",
      "source": [
        "import random\n",
        "\n",
        "# Función que permite al usuario definir los colores y realiza el juego de adivinanza\n",
        "def adivinar_color():\n",
        "    # Solicitar al usuario que ingrese una lista de 10 colores\n",
        "    colores = []\n",
        "    print(\"Por favor, ingrese 10 colores:\")\n",
        "    for i in range(10):\n",
        "        color = input(f\"Color {i + 1}: \")\n",
        "        colores.append(color.strip().lower())  # Guardar el color en minúsculas para evitar errores por mayúsculas\n",
        "\n",
        "    # Seleccionar un color al azar del conjunto de colores\n",
        "    color_seleccionado = random.choice(colores)\n",
        "\n",
        "    # Diccionario para almacenar los intentos y las respuestas\n",
        "    intentos = {}\n",
        "\n",
        "    print(\"\\nHe seleccionado un color al azar de los que ingresaste. ¡Tienes 10 intentos para adivinarlo!\")\n",
        "\n",
        "    # Realizar los intentos\n",
        "    for intento_numero in range(1, 11):\n",
        "        adivinanza = input(f\"\\nIntento {intento_numero}: ¿Cuál crees que es el color? \").strip().lower()\n",
        "\n",
        "        # Verificar si el color adivinado es correcto\n",
        "        if adivinanza == color_seleccionado:\n",
        "            print(f\"¡Felicidades! Adivinaste el color '{color_seleccionado}' en el intento {intento_numero}.\")\n",
        "            break\n",
        "        else:\n",
        "            intentos[intento_numero] = adivinanza\n",
        "            print(f\"¡Incorrecto! Intenta de nuevo.\")\n",
        "\n",
        "    # Si se llega a los 10 intentos sin adivinar, se revela el color correcto\n",
        "    if adivinanza != color_seleccionado:\n",
        "        print(f\"\\nLo siento, no adivinaste el color en 10 intentos. El color correcto era: {color_seleccionado}.\")\n",
        "\n",
        "    # Mostrar el diccionario de intentos\n",
        "    print(\"\\nTus intentos fueron:\")\n",
        "    for intento, color in intentos.items():\n",
        "        print(f\"Intento {intento}: {color}\")\n",
        "\n",
        "# Llamar a la función para iniciar el juego\n",
        "adivinar_color()\n"
      ],
      "metadata": {
        "colab": {
          "base_uri": "https://localhost:8080/"
        },
        "id": "U_3ljQGdEtjA",
        "outputId": "19f5fe6e-5c77-4e95-ba38-e14ef75c0458"
      },
      "execution_count": null,
      "outputs": [
        {
          "output_type": "stream",
          "name": "stdout",
          "text": [
            "Por favor, ingrese 10 colores:\n",
            "Color 1: negro\n",
            "Color 2: blanco\n",
            "Color 3: gris\n",
            "Color 4: rojo\n",
            "Color 5: amarilloo\n",
            "Color 6: gris\n",
            "Color 7: verde\n",
            "Color 8: azul\n",
            "Color 9: rosa\n",
            "Color 10: morado\n",
            "\n",
            "He seleccionado un color al azar de los que ingresaste. ¡Tienes 10 intentos para adivinarlo!\n",
            "\n",
            "Intento 1: ¿Cuál crees que es el color? negro\n",
            "¡Incorrecto! Intenta de nuevo.\n",
            "\n",
            "Intento 2: ¿Cuál crees que es el color? azul\n",
            "¡Incorrecto! Intenta de nuevo.\n",
            "\n",
            "Intento 3: ¿Cuál crees que es el color? verde\n",
            "¡Incorrecto! Intenta de nuevo.\n",
            "\n",
            "Intento 4: ¿Cuál crees que es el color? blanco\n",
            "¡Felicidades! Adivinaste el color 'blanco' en el intento 4.\n",
            "\n",
            "Tus intentos fueron:\n",
            "Intento 1: negro\n",
            "Intento 2: azul\n",
            "Intento 3: verde\n"
          ]
        }
      ]
    },
    {
      "cell_type": "code",
      "source": [
        "# Función que genera los números pares entre 1 y 100\n",
        "def numeros_pares():\n",
        "    diccionario_pares = {}  # Diccionario para almacenar los números pares\n",
        "    for i in range(1, 101):\n",
        "        if i % 2 == 0:\n",
        "            diccionario_pares[i] = \"Par\"  # Almacena el número par con el valor \"Par\"\n",
        "    return diccionario_pares\n",
        "\n",
        "# Obtener los números pares usando el diccionario\n",
        "pares = numeros_pares()\n",
        "\n",
        "# Mostrar los números pares\n",
        "print(\"Números pares entre 1 y 100:\")\n",
        "for clave in pares:\n",
        "    print(clave)\n"
      ],
      "metadata": {
        "colab": {
          "base_uri": "https://localhost:8080/"
        },
        "id": "gZtGleh6FcKE",
        "outputId": "861c6579-21e8-4b70-a1b6-aaf5e5943a77"
      },
      "execution_count": null,
      "outputs": [
        {
          "output_type": "stream",
          "name": "stdout",
          "text": [
            "Números pares entre 1 y 100:\n",
            "2\n",
            "4\n",
            "6\n",
            "8\n",
            "10\n",
            "12\n",
            "14\n",
            "16\n",
            "18\n",
            "20\n",
            "22\n",
            "24\n",
            "26\n",
            "28\n",
            "30\n",
            "32\n",
            "34\n",
            "36\n",
            "38\n",
            "40\n",
            "42\n",
            "44\n",
            "46\n",
            "48\n",
            "50\n",
            "52\n",
            "54\n",
            "56\n",
            "58\n",
            "60\n",
            "62\n",
            "64\n",
            "66\n",
            "68\n",
            "70\n",
            "72\n",
            "74\n",
            "76\n",
            "78\n",
            "80\n",
            "82\n",
            "84\n",
            "86\n",
            "88\n",
            "90\n",
            "92\n",
            "94\n",
            "96\n",
            "98\n",
            "100\n"
          ]
        }
      ]
    },
    {
      "cell_type": "code",
      "source": [
        "# Función que determina si un número es primo\n",
        "def es_primo(numero):\n",
        "    if numero < 2:\n",
        "        return False  # Los números menores que 2 no son primos\n",
        "    for i in range(2, numero):\n",
        "        if numero % i == 0:\n",
        "            return False  # Si el número es divisible por cualquier número entre 2 y numero-1, no es primo\n",
        "    return True  # Si no es divisible por ningún número entre 2 y numero-1, es primo\n",
        "\n",
        "# Función que almacena los resultados en un diccionario\n",
        "def verificar_primo(numero):\n",
        "    resultado = {}  # Diccionario para almacenar el número y si es primo o no\n",
        "    if es_primo(numero):\n",
        "        resultado[numero] = \"Primo\"\n",
        "    else:\n",
        "        resultado[numero] = \"No Primo\"\n",
        "    return resultado\n",
        "\n",
        "# Solicitar al usuario un número para verificar si es primo\n",
        "numero = int(input(\"Ingrese un número para verificar si es primo: \"))\n",
        "\n",
        "# Verificar si el número es primo\n",
        "resultado = verificar_primo(numero)\n",
        "\n",
        "# Mostrar el resultado\n",
        "for clave, valor in resultado.items():\n",
        "    print(f\"El número {clave} es {valor}.\")\n"
      ],
      "metadata": {
        "colab": {
          "base_uri": "https://localhost:8080/"
        },
        "id": "Pb9g789_FnIn",
        "outputId": "18cd74a6-f097-4f59-ed5c-0fc92d5ce591"
      },
      "execution_count": null,
      "outputs": [
        {
          "output_type": "stream",
          "name": "stdout",
          "text": [
            "Ingrese un número para verificar si es primo: 24\n",
            "El número 24 es No Primo.\n"
          ]
        }
      ]
    },
    {
      "cell_type": "code",
      "source": [
        "# Función que genera el patrón de triángulo de asteriscos\n",
        "def generar_triangulo(filas):\n",
        "    triangulo_dict = {}  # Diccionario para almacenar las filas del triángulo\n",
        "\n",
        "    for i in range(1, filas + 1):\n",
        "        # Crear una fila con i asteriscos\n",
        "        fila = '*' * i\n",
        "        triangulo_dict[i] = fila  # Almacena la fila en el diccionario, donde la clave es la fila y el valor es la cadena de asteriscos\n",
        "\n",
        "    return triangulo_dict\n",
        "\n",
        "# Solicitar al usuario el número de filas para el triángulo\n",
        "filas = int(input(\"Ingrese el número de filas para el triángulo: \"))\n",
        "\n",
        "# Obtener el patrón del triángulo\n",
        "triangulo = generar_triangulo(filas)\n",
        "\n",
        "# Mostrar el patrón de triángulo\n",
        "print(\"\\nPatrón de triángulo de asteriscos:\")\n",
        "for i in range(1, filas + 1):\n",
        "    print(triangulo[i])\n"
      ],
      "metadata": {
        "colab": {
          "base_uri": "https://localhost:8080/"
        },
        "id": "w5oPIwRkFw5X",
        "outputId": "4886eb5f-216d-4650-c945-f318888b846b"
      },
      "execution_count": null,
      "outputs": [
        {
          "output_type": "stream",
          "name": "stdout",
          "text": [
            "Ingrese el número de filas para el triángulo: 56\n",
            "\n",
            "Patrón de triángulo de asteriscos:\n",
            "*\n",
            "**\n",
            "***\n",
            "****\n",
            "*****\n",
            "******\n",
            "*******\n",
            "********\n",
            "*********\n",
            "**********\n",
            "***********\n",
            "************\n",
            "*************\n",
            "**************\n",
            "***************\n",
            "****************\n",
            "*****************\n",
            "******************\n",
            "*******************\n",
            "********************\n",
            "*********************\n",
            "**********************\n",
            "***********************\n",
            "************************\n",
            "*************************\n",
            "**************************\n",
            "***************************\n",
            "****************************\n",
            "*****************************\n",
            "******************************\n",
            "*******************************\n",
            "********************************\n",
            "*********************************\n",
            "**********************************\n",
            "***********************************\n",
            "************************************\n",
            "*************************************\n",
            "**************************************\n",
            "***************************************\n",
            "****************************************\n",
            "*****************************************\n",
            "******************************************\n",
            "*******************************************\n",
            "********************************************\n",
            "*********************************************\n",
            "**********************************************\n",
            "***********************************************\n",
            "************************************************\n",
            "*************************************************\n",
            "**************************************************\n",
            "***************************************************\n",
            "****************************************************\n",
            "*****************************************************\n",
            "******************************************************\n",
            "*******************************************************\n",
            "********************************************************\n"
          ]
        }
      ]
    },
    {
      "cell_type": "code",
      "source": [
        "# Función que calcula la potencia de un número sin usar el operador **\n",
        "def calcular_potencia(base, exponente):\n",
        "    resultado = 1\n",
        "    potencia_dict = {}  # Diccionario para almacenar las potencias calculadas\n",
        "\n",
        "    for i in range(1, exponente + 1):\n",
        "        resultado *= base  # Multiplicar base por sí misma\n",
        "        potencia_dict[i] = resultado  # Almacenar la potencia en el diccionario\n",
        "\n",
        "    return potencia_dict, resultado\n",
        "\n",
        "# Solicitar al usuario la base y el exponente\n",
        "base = int(input(\"Ingrese la base: \"))\n",
        "exponente = int(input(\"Ingrese el exponente: \"))\n",
        "\n",
        "# Verificar si el exponente es negativo\n",
        "if exponente < 0:\n",
        "    print(\"El exponente no puede ser negativo en este caso. El programa solo soporta exponentes no negativos.\")\n",
        "else:\n",
        "    # Obtener el diccionario con las potencias y el resultado final\n",
        "    potencias, resultado_final = calcular_potencia(base, exponente)\n",
        "\n",
        "    # Mostrar las potencias calculadas paso a paso\n",
        "    print(f\"\\nLas potencias de {base} son:\")\n",
        "    for ex, valor in potencias.items():\n",
        "        print(f\"{base} ^ {ex} = {valor}\")\n",
        "\n",
        "    # Mostrar el resultado final\n",
        "    print(f\"\\nLa potencia de {base} elevado a {exponente} es: {resultado_final}\")\n"
      ],
      "metadata": {
        "colab": {
          "base_uri": "https://localhost:8080/"
        },
        "id": "arrUI1bbF8Qq",
        "outputId": "e5926468-1426-4bba-b091-c088ece71a30"
      },
      "execution_count": null,
      "outputs": [
        {
          "output_type": "stream",
          "name": "stdout",
          "text": [
            "Ingrese la base: 6\n",
            "Ingrese el exponente: 4\n",
            "\n",
            "Las potencias de 6 son:\n",
            "6 ^ 1 = 6\n",
            "6 ^ 2 = 36\n",
            "6 ^ 3 = 216\n",
            "6 ^ 4 = 1296\n",
            "\n",
            "La potencia de 6 elevado a 4 es: 1296\n"
          ]
        }
      ]
    }
  ]
}